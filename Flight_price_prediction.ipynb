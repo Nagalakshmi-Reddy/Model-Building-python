{
 "cells": [
  {
   "cell_type": "markdown",
   "id": "4a7df456",
   "metadata": {},
   "source": [
    "# Predicting the flight prices using Machine learning models"
   ]
  },
  {
   "cell_type": "markdown",
   "id": "bfda5e9f",
   "metadata": {},
   "source": [
    "#### The dataset used to build model is downloaded from kaggle website containing the prices of flight ticket of various airlines travelling across various cities of India between the months of March and June of 2019. The dataset contains 11 features and 10,683 observations."
   ]
  },
  {
   "cell_type": "markdown",
   "id": "ac88c5e2",
   "metadata": {},
   "source": [
    "## 1.Importing Packages"
   ]
  },
  {
   "cell_type": "code",
   "execution_count": 1,
   "id": "5383a2dc",
   "metadata": {},
   "outputs": [],
   "source": [
    "import warnings\n",
    "warnings.filterwarnings('ignore')\n",
    "\n",
    "import numpy as np\n",
    "import pandas as pd\n",
    "import matplotlib.pyplot as plt\n",
    "import seaborn as sns\n",
    "\n",
    "from sklearn.model_selection import train_test_split\n",
    "from sklearn import metrics\n",
    "from sklearn.linear_model import LinearRegression\n",
    "from sklearn.tree import DecisionTreeRegressor\n",
    "from sklearn.ensemble import RandomForestRegressor\n",
    "from sklearn.model_selection import GridSearchCV\n",
    "from sklearn.ensemble import BaggingRegressor\n",
    "from sklearn.ensemble import AdaBoostRegressor\n",
    "from xgboost.sklearn import XGBRegressor"
   ]
  },
  {
   "cell_type": "code",
   "execution_count": 2,
   "id": "f1ea64e9",
   "metadata": {},
   "outputs": [],
   "source": [
    "# Setting a standard figure size\n",
    "plt.rcParams['figure.figsize'] = [8,5]"
   ]
  },
  {
   "cell_type": "markdown",
   "id": "039f508d",
   "metadata": {},
   "source": [
    "# 2.Reading the Data"
   ]
  },
  {
   "cell_type": "code",
   "execution_count": 3,
   "id": "8a3660e6",
   "metadata": {},
   "outputs": [],
   "source": [
    "os = (r\"C:\\Users\\hp\\OneDrive\\Desktop\\Capstone Project 1\\model\")"
   ]
  },
  {
   "cell_type": "code",
   "execution_count": 4,
   "id": "bfe0badd",
   "metadata": {},
   "outputs": [
    {
     "data": {
      "text/html": [
       "<div>\n",
       "<style scoped>\n",
       "    .dataframe tbody tr th:only-of-type {\n",
       "        vertical-align: middle;\n",
       "    }\n",
       "\n",
       "    .dataframe tbody tr th {\n",
       "        vertical-align: top;\n",
       "    }\n",
       "\n",
       "    .dataframe thead th {\n",
       "        text-align: right;\n",
       "    }\n",
       "</style>\n",
       "<table border=\"1\" class=\"dataframe\">\n",
       "  <thead>\n",
       "    <tr style=\"text-align: right;\">\n",
       "      <th></th>\n",
       "      <th>Airline</th>\n",
       "      <th>Date_of_Journey</th>\n",
       "      <th>Source</th>\n",
       "      <th>Destination</th>\n",
       "      <th>Route</th>\n",
       "      <th>Dep_Time</th>\n",
       "      <th>Arrival_Time</th>\n",
       "      <th>Duration</th>\n",
       "      <th>Total_Stops</th>\n",
       "      <th>Additional_Info</th>\n",
       "      <th>Price</th>\n",
       "    </tr>\n",
       "  </thead>\n",
       "  <tbody>\n",
       "    <tr>\n",
       "      <th>0</th>\n",
       "      <td>IndiGo</td>\n",
       "      <td>24/03/2019</td>\n",
       "      <td>Banglore</td>\n",
       "      <td>New Delhi</td>\n",
       "      <td>BLR → DEL</td>\n",
       "      <td>22:20</td>\n",
       "      <td>01:10 22 Mar</td>\n",
       "      <td>2h 50m</td>\n",
       "      <td>non-stop</td>\n",
       "      <td>No info</td>\n",
       "      <td>3897</td>\n",
       "    </tr>\n",
       "    <tr>\n",
       "      <th>1</th>\n",
       "      <td>Air India</td>\n",
       "      <td>1/05/2019</td>\n",
       "      <td>Kolkata</td>\n",
       "      <td>Banglore</td>\n",
       "      <td>CCU → IXR → BBI → BLR</td>\n",
       "      <td>05:50</td>\n",
       "      <td>13:15</td>\n",
       "      <td>7h 25m</td>\n",
       "      <td>2 stops</td>\n",
       "      <td>No info</td>\n",
       "      <td>7662</td>\n",
       "    </tr>\n",
       "    <tr>\n",
       "      <th>2</th>\n",
       "      <td>Jet Airways</td>\n",
       "      <td>9/06/2019</td>\n",
       "      <td>Delhi</td>\n",
       "      <td>Cochin</td>\n",
       "      <td>DEL → LKO → BOM → COK</td>\n",
       "      <td>09:25</td>\n",
       "      <td>04:25 10 Jun</td>\n",
       "      <td>19h</td>\n",
       "      <td>2 stops</td>\n",
       "      <td>No info</td>\n",
       "      <td>13882</td>\n",
       "    </tr>\n",
       "    <tr>\n",
       "      <th>3</th>\n",
       "      <td>IndiGo</td>\n",
       "      <td>12/05/2019</td>\n",
       "      <td>Kolkata</td>\n",
       "      <td>Banglore</td>\n",
       "      <td>CCU → NAG → BLR</td>\n",
       "      <td>18:05</td>\n",
       "      <td>23:30</td>\n",
       "      <td>5h 25m</td>\n",
       "      <td>1 stop</td>\n",
       "      <td>No info</td>\n",
       "      <td>6218</td>\n",
       "    </tr>\n",
       "    <tr>\n",
       "      <th>4</th>\n",
       "      <td>IndiGo</td>\n",
       "      <td>01/03/2019</td>\n",
       "      <td>Banglore</td>\n",
       "      <td>New Delhi</td>\n",
       "      <td>BLR → NAG → DEL</td>\n",
       "      <td>16:50</td>\n",
       "      <td>21:35</td>\n",
       "      <td>4h 45m</td>\n",
       "      <td>1 stop</td>\n",
       "      <td>No info</td>\n",
       "      <td>13302</td>\n",
       "    </tr>\n",
       "  </tbody>\n",
       "</table>\n",
       "</div>"
      ],
      "text/plain": [
       "       Airline Date_of_Journey    Source Destination                  Route  \\\n",
       "0       IndiGo      24/03/2019  Banglore   New Delhi              BLR → DEL   \n",
       "1    Air India       1/05/2019   Kolkata    Banglore  CCU → IXR → BBI → BLR   \n",
       "2  Jet Airways       9/06/2019     Delhi      Cochin  DEL → LKO → BOM → COK   \n",
       "3       IndiGo      12/05/2019   Kolkata    Banglore        CCU → NAG → BLR   \n",
       "4       IndiGo      01/03/2019  Banglore   New Delhi        BLR → NAG → DEL   \n",
       "\n",
       "  Dep_Time  Arrival_Time Duration Total_Stops Additional_Info  Price  \n",
       "0    22:20  01:10 22 Mar   2h 50m    non-stop         No info   3897  \n",
       "1    05:50         13:15   7h 25m     2 stops         No info   7662  \n",
       "2    09:25  04:25 10 Jun      19h     2 stops         No info  13882  \n",
       "3    18:05         23:30   5h 25m      1 stop         No info   6218  \n",
       "4    16:50         21:35   4h 45m      1 stop         No info  13302  "
      ]
     },
     "execution_count": 4,
     "metadata": {},
     "output_type": "execute_result"
    }
   ],
   "source": [
    "df_train = pd.read_excel(\"Data_Train.xlsx\")\n",
    "df_train.head()"
   ]
  },
  {
   "cell_type": "code",
   "execution_count": 5,
   "id": "8394ca82",
   "metadata": {},
   "outputs": [
    {
     "data": {
      "text/plain": [
       "(10683, 11)"
      ]
     },
     "execution_count": 5,
     "metadata": {},
     "output_type": "execute_result"
    }
   ],
   "source": [
    "df_train.shape"
   ]
  },
  {
   "cell_type": "code",
   "execution_count": 6,
   "id": "1051b2cd",
   "metadata": {},
   "outputs": [
    {
     "name": "stdout",
     "output_type": "stream",
     "text": [
      "<class 'pandas.core.frame.DataFrame'>\n",
      "RangeIndex: 10683 entries, 0 to 10682\n",
      "Data columns (total 11 columns):\n",
      " #   Column           Non-Null Count  Dtype \n",
      "---  ------           --------------  ----- \n",
      " 0   Airline          10683 non-null  object\n",
      " 1   Date_of_Journey  10683 non-null  object\n",
      " 2   Source           10683 non-null  object\n",
      " 3   Destination      10683 non-null  object\n",
      " 4   Route            10682 non-null  object\n",
      " 5   Dep_Time         10683 non-null  object\n",
      " 6   Arrival_Time     10683 non-null  object\n",
      " 7   Duration         10683 non-null  object\n",
      " 8   Total_Stops      10682 non-null  object\n",
      " 9   Additional_Info  10683 non-null  object\n",
      " 10  Price            10683 non-null  int64 \n",
      "dtypes: int64(1), object(10)\n",
      "memory usage: 918.2+ KB\n"
     ]
    }
   ],
   "source": [
    "df_train.info()"
   ]
  },
  {
   "cell_type": "markdown",
   "id": "ad5c1ff2",
   "metadata": {},
   "source": [
    "#### We can see that the dataset contains total of 11 features out of which 10 features are object, some having are inappropriate datatypes and one is integer which is our target variable (Price)."
   ]
  },
  {
   "cell_type": "markdown",
   "id": "d564beda",
   "metadata": {},
   "source": [
    "# 3.Prepare and Analyse the Data"
   ]
  },
  {
   "cell_type": "markdown",
   "id": "0f31621c",
   "metadata": {},
   "source": [
    "## 3.1 Understand the Data"
   ]
  },
  {
   "cell_type": "markdown",
   "id": "651a3349",
   "metadata": {},
   "source": [
    "### 3.1.1 datatype - In order to build the model first we need to check whether the data type of variables are correctly identified, if not we need to convert them."
   ]
  },
  {
   "cell_type": "code",
   "execution_count": 7,
   "id": "ebb96469",
   "metadata": {},
   "outputs": [],
   "source": [
    "df_train['Day_of_Journey'] = pd.to_datetime(df_train.Date_of_Journey,format=\"%d/%m/%Y\").dt.day\n",
    "df_train['Month_of_Journey'] = pd.to_datetime(df_train.Date_of_Journey,format=\"%d/%m/%Y\").dt.month"
   ]
  },
  {
   "cell_type": "code",
   "execution_count": 8,
   "id": "724ccc05",
   "metadata": {},
   "outputs": [],
   "source": [
    "new = df_train['Dep_Time'].str.split(':', n=2, expand=True)\n",
    "\n",
    "df_train['Dep_Hours'] = [int(i) for i in new[0]]\n",
    "df_train['Dep_Minutes'] = [int(i) for i in new[1]]"
   ]
  },
  {
   "cell_type": "code",
   "execution_count": 9,
   "id": "b1bf85f6",
   "metadata": {},
   "outputs": [],
   "source": [
    "new = df_train['Arrival_Time'].str.split(' ',expand=True)\n",
    "new_1 = new[0].str.split(':',expand=True)\n",
    "\n",
    "df_train['Arrival_Hours'] = [int(i) for i in new_1[0]]\n",
    "df_train['Arrival_Minutes'] = [int(i) for i in new_1[1]]"
   ]
  },
  {
   "cell_type": "code",
   "execution_count": 10,
   "id": "90395079",
   "metadata": {},
   "outputs": [],
   "source": [
    "duration = list(df_train[\"Duration\"])\n",
    "for i in range(len(duration)):\n",
    "    if len(duration[i].split()) !=2 :\n",
    "        if \"h\" in duration[i]:\n",
    "            duration[i] = duration[i].strip() + \" 0m\"\n",
    "        else:\n",
    "            duration[i] = \"0h \" + duration[i]"
   ]
  },
  {
   "cell_type": "code",
   "execution_count": 11,
   "id": "49c6c106",
   "metadata": {},
   "outputs": [],
   "source": [
    "duration_hours = []\n",
    "duration_mins = []\n",
    "\n",
    "for i in range(len(duration)):\n",
    "    duration_hours.append(int(duration[i].split(sep='h')[0]))\n",
    "    duration_mins.append(int(duration[i].split(sep='m')[0].split()[-1]))"
   ]
  },
  {
   "cell_type": "code",
   "execution_count": 12,
   "id": "d0edf60f",
   "metadata": {},
   "outputs": [],
   "source": [
    "df_train['Duration_Hours'] = duration_hours\n",
    "df_train['Duration_Minutes'] = duration_mins"
   ]
  },
  {
   "cell_type": "code",
   "execution_count": 13,
   "id": "23cfc9b4",
   "metadata": {},
   "outputs": [
    {
     "data": {
      "text/plain": [
       "1 stop      5625\n",
       "non-stop    3491\n",
       "2 stops     1520\n",
       "3 stops       45\n",
       "4 stops        1\n",
       "Name: Total_Stops, dtype: int64"
      ]
     },
     "execution_count": 13,
     "metadata": {},
     "output_type": "execute_result"
    }
   ],
   "source": [
    "df_train.Total_Stops.value_counts()"
   ]
  },
  {
   "cell_type": "code",
   "execution_count": 14,
   "id": "e9b7b2dd",
   "metadata": {},
   "outputs": [],
   "source": [
    "# the 'Total_Stops' column contains 5 unique values indicating the number of stops the flight lands at between source and destination.\n",
    "# So, we do label encoding for this column.\n",
    "\n",
    "df_train.replace({'non-stop':0, '1 stop':1, '2 stops':2, '3 stops':3, '4 stops':4}, inplace=True)"
   ]
  },
  {
   "cell_type": "code",
   "execution_count": 15,
   "id": "484b8fd5",
   "metadata": {},
   "outputs": [
    {
     "data": {
      "text/plain": [
       "DEL → BOM → COK          2376\n",
       "BLR → DEL                1552\n",
       "CCU → BOM → BLR           979\n",
       "CCU → BLR                 724\n",
       "BOM → HYD                 621\n",
       "                         ... \n",
       "CCU → VTZ → BLR             1\n",
       "CCU → IXZ → MAA → BLR       1\n",
       "BOM → COK → MAA → HYD       1\n",
       "BOM → CCU → HYD             1\n",
       "BOM → BBI → HYD             1\n",
       "Name: Route, Length: 128, dtype: int64"
      ]
     },
     "execution_count": 15,
     "metadata": {},
     "output_type": "execute_result"
    }
   ],
   "source": [
    "df_train.Route.value_counts()"
   ]
  },
  {
   "cell_type": "markdown",
   "id": "6c393491",
   "metadata": {},
   "source": [
    "#### The above columns Route and Total_Stops are strongly correlated to each other.since both columns are describing the number of stops the flght lands at. Hence the column Route is redundant in the presence of Total_Stops.   "
   ]
  },
  {
   "cell_type": "code",
   "execution_count": 16,
   "id": "4ba8d610",
   "metadata": {},
   "outputs": [
    {
     "data": {
      "text/plain": [
       "No info                         8345\n",
       "In-flight meal not included     1982\n",
       "No check-in baggage included     320\n",
       "1 Long layover                    19\n",
       "Change airports                    7\n",
       "Business class                     4\n",
       "No Info                            3\n",
       "1 Short layover                    1\n",
       "Red-eye flight                     1\n",
       "2 Long layover                     1\n",
       "Name: Additional_Info, dtype: int64"
      ]
     },
     "execution_count": 16,
     "metadata": {},
     "output_type": "execute_result"
    }
   ],
   "source": [
    "df_train.Additional_Info.value_counts()"
   ]
  },
  {
   "cell_type": "markdown",
   "id": "29b0147c",
   "metadata": {},
   "source": [
    "#### In the above column 78% of the rows does not contain any Information, so it is better to drop this column."
   ]
  },
  {
   "cell_type": "code",
   "execution_count": 17,
   "id": "cabfc263",
   "metadata": {},
   "outputs": [
    {
     "data": {
      "text/plain": [
       "Delhi       4537\n",
       "Kolkata     2871\n",
       "Banglore    2197\n",
       "Mumbai       697\n",
       "Chennai      381\n",
       "Name: Source, dtype: int64"
      ]
     },
     "execution_count": 17,
     "metadata": {},
     "output_type": "execute_result"
    }
   ],
   "source": [
    "df_train.Source.value_counts()"
   ]
  },
  {
   "cell_type": "markdown",
   "id": "c0e478dd",
   "metadata": {},
   "source": [
    "#### The above Source column have 5 unique values as cities"
   ]
  },
  {
   "cell_type": "code",
   "execution_count": 18,
   "id": "a2d517cf",
   "metadata": {},
   "outputs": [
    {
     "data": {
      "text/plain": [
       "Cochin       4537\n",
       "Banglore     2871\n",
       "Delhi        1265\n",
       "New Delhi     932\n",
       "Hyderabad     697\n",
       "Kolkata       381\n",
       "Name: Destination, dtype: int64"
      ]
     },
     "execution_count": 18,
     "metadata": {},
     "output_type": "execute_result"
    }
   ],
   "source": [
    "df_train.Destination.value_counts()"
   ]
  },
  {
   "cell_type": "markdown",
   "id": "9e79af1c",
   "metadata": {},
   "source": [
    "#### The above Destination column has 6 unique values representing cities in India, in that the city Delhi is identified with 2 different values i.e, 'Delhi' and 'New Delhi'. so let's replace 'New Delhi' as 'Delhi'."
   ]
  },
  {
   "cell_type": "code",
   "execution_count": 19,
   "id": "f58c1999",
   "metadata": {},
   "outputs": [],
   "source": [
    "df_train.Destination.replace({\"New Delhi\": \"Delhi\"}, inplace=True)"
   ]
  },
  {
   "cell_type": "code",
   "execution_count": 20,
   "id": "f8669353",
   "metadata": {},
   "outputs": [
    {
     "data": {
      "text/html": [
       "<div>\n",
       "<style scoped>\n",
       "    .dataframe tbody tr th:only-of-type {\n",
       "        vertical-align: middle;\n",
       "    }\n",
       "\n",
       "    .dataframe tbody tr th {\n",
       "        vertical-align: top;\n",
       "    }\n",
       "\n",
       "    .dataframe thead th {\n",
       "        text-align: right;\n",
       "    }\n",
       "</style>\n",
       "<table border=\"1\" class=\"dataframe\">\n",
       "  <thead>\n",
       "    <tr style=\"text-align: right;\">\n",
       "      <th></th>\n",
       "      <th>Airline</th>\n",
       "      <th>Source</th>\n",
       "      <th>Destination</th>\n",
       "      <th>Total_Stops</th>\n",
       "      <th>Price</th>\n",
       "      <th>Day_of_Journey</th>\n",
       "      <th>Month_of_Journey</th>\n",
       "      <th>Dep_Hours</th>\n",
       "      <th>Dep_Minutes</th>\n",
       "      <th>Arrival_Hours</th>\n",
       "      <th>Arrival_Minutes</th>\n",
       "      <th>Duration_Hours</th>\n",
       "      <th>Duration_Minutes</th>\n",
       "    </tr>\n",
       "  </thead>\n",
       "  <tbody>\n",
       "    <tr>\n",
       "      <th>0</th>\n",
       "      <td>IndiGo</td>\n",
       "      <td>Banglore</td>\n",
       "      <td>Delhi</td>\n",
       "      <td>0.0</td>\n",
       "      <td>3897</td>\n",
       "      <td>24</td>\n",
       "      <td>3</td>\n",
       "      <td>22</td>\n",
       "      <td>20</td>\n",
       "      <td>1</td>\n",
       "      <td>10</td>\n",
       "      <td>2</td>\n",
       "      <td>50</td>\n",
       "    </tr>\n",
       "    <tr>\n",
       "      <th>1</th>\n",
       "      <td>Air India</td>\n",
       "      <td>Kolkata</td>\n",
       "      <td>Banglore</td>\n",
       "      <td>2.0</td>\n",
       "      <td>7662</td>\n",
       "      <td>1</td>\n",
       "      <td>5</td>\n",
       "      <td>5</td>\n",
       "      <td>50</td>\n",
       "      <td>13</td>\n",
       "      <td>15</td>\n",
       "      <td>7</td>\n",
       "      <td>25</td>\n",
       "    </tr>\n",
       "    <tr>\n",
       "      <th>2</th>\n",
       "      <td>Jet Airways</td>\n",
       "      <td>Delhi</td>\n",
       "      <td>Cochin</td>\n",
       "      <td>2.0</td>\n",
       "      <td>13882</td>\n",
       "      <td>9</td>\n",
       "      <td>6</td>\n",
       "      <td>9</td>\n",
       "      <td>25</td>\n",
       "      <td>4</td>\n",
       "      <td>25</td>\n",
       "      <td>19</td>\n",
       "      <td>0</td>\n",
       "    </tr>\n",
       "    <tr>\n",
       "      <th>3</th>\n",
       "      <td>IndiGo</td>\n",
       "      <td>Kolkata</td>\n",
       "      <td>Banglore</td>\n",
       "      <td>1.0</td>\n",
       "      <td>6218</td>\n",
       "      <td>12</td>\n",
       "      <td>5</td>\n",
       "      <td>18</td>\n",
       "      <td>5</td>\n",
       "      <td>23</td>\n",
       "      <td>30</td>\n",
       "      <td>5</td>\n",
       "      <td>25</td>\n",
       "    </tr>\n",
       "    <tr>\n",
       "      <th>4</th>\n",
       "      <td>IndiGo</td>\n",
       "      <td>Banglore</td>\n",
       "      <td>Delhi</td>\n",
       "      <td>1.0</td>\n",
       "      <td>13302</td>\n",
       "      <td>1</td>\n",
       "      <td>3</td>\n",
       "      <td>16</td>\n",
       "      <td>50</td>\n",
       "      <td>21</td>\n",
       "      <td>35</td>\n",
       "      <td>4</td>\n",
       "      <td>45</td>\n",
       "    </tr>\n",
       "  </tbody>\n",
       "</table>\n",
       "</div>"
      ],
      "text/plain": [
       "       Airline    Source Destination  Total_Stops  Price  Day_of_Journey  \\\n",
       "0       IndiGo  Banglore       Delhi          0.0   3897              24   \n",
       "1    Air India   Kolkata    Banglore          2.0   7662               1   \n",
       "2  Jet Airways     Delhi      Cochin          2.0  13882               9   \n",
       "3       IndiGo   Kolkata    Banglore          1.0   6218              12   \n",
       "4       IndiGo  Banglore       Delhi          1.0  13302               1   \n",
       "\n",
       "   Month_of_Journey  Dep_Hours  Dep_Minutes  Arrival_Hours  Arrival_Minutes  \\\n",
       "0                 3         22           20              1               10   \n",
       "1                 5          5           50             13               15   \n",
       "2                 6          9           25              4               25   \n",
       "3                 5         18            5             23               30   \n",
       "4                 3         16           50             21               35   \n",
       "\n",
       "   Duration_Hours  Duration_Minutes  \n",
       "0               2                50  \n",
       "1               7                25  \n",
       "2              19                 0  \n",
       "3               5                25  \n",
       "4               4                45  "
      ]
     },
     "execution_count": 20,
     "metadata": {},
     "output_type": "execute_result"
    }
   ],
   "source": [
    "df = df_train.drop(['Date_of_Journey','Route','Dep_Time','Arrival_Time','Duration','Additional_Info'], axis=1)\n",
    "df.head()"
   ]
  },
  {
   "cell_type": "markdown",
   "id": "01349e1d",
   "metadata": {},
   "source": [
    "### 3.1.2 Statistical Summary"
   ]
  },
  {
   "cell_type": "code",
   "execution_count": 21,
   "id": "ee33d60b",
   "metadata": {},
   "outputs": [
    {
     "data": {
      "text/html": [
       "<div>\n",
       "<style scoped>\n",
       "    .dataframe tbody tr th:only-of-type {\n",
       "        vertical-align: middle;\n",
       "    }\n",
       "\n",
       "    .dataframe tbody tr th {\n",
       "        vertical-align: top;\n",
       "    }\n",
       "\n",
       "    .dataframe thead th {\n",
       "        text-align: right;\n",
       "    }\n",
       "</style>\n",
       "<table border=\"1\" class=\"dataframe\">\n",
       "  <thead>\n",
       "    <tr style=\"text-align: right;\">\n",
       "      <th></th>\n",
       "      <th>Total_Stops</th>\n",
       "      <th>Price</th>\n",
       "      <th>Day_of_Journey</th>\n",
       "      <th>Month_of_Journey</th>\n",
       "      <th>Dep_Hours</th>\n",
       "      <th>Dep_Minutes</th>\n",
       "      <th>Arrival_Hours</th>\n",
       "      <th>Arrival_Minutes</th>\n",
       "      <th>Duration_Hours</th>\n",
       "      <th>Duration_Minutes</th>\n",
       "    </tr>\n",
       "  </thead>\n",
       "  <tbody>\n",
       "    <tr>\n",
       "      <th>count</th>\n",
       "      <td>10682.000000</td>\n",
       "      <td>10683.000000</td>\n",
       "      <td>10683.000000</td>\n",
       "      <td>10683.000000</td>\n",
       "      <td>10683.000000</td>\n",
       "      <td>10683.000000</td>\n",
       "      <td>10683.000000</td>\n",
       "      <td>10683.000000</td>\n",
       "      <td>10683.000000</td>\n",
       "      <td>10683.000000</td>\n",
       "    </tr>\n",
       "    <tr>\n",
       "      <th>mean</th>\n",
       "      <td>0.824190</td>\n",
       "      <td>9087.064121</td>\n",
       "      <td>13.508378</td>\n",
       "      <td>4.708602</td>\n",
       "      <td>12.490686</td>\n",
       "      <td>24.411214</td>\n",
       "      <td>13.348778</td>\n",
       "      <td>24.690630</td>\n",
       "      <td>10.246092</td>\n",
       "      <td>28.327717</td>\n",
       "    </tr>\n",
       "    <tr>\n",
       "      <th>std</th>\n",
       "      <td>0.675229</td>\n",
       "      <td>4611.359167</td>\n",
       "      <td>8.479277</td>\n",
       "      <td>1.164357</td>\n",
       "      <td>5.748650</td>\n",
       "      <td>18.767980</td>\n",
       "      <td>6.859125</td>\n",
       "      <td>16.506036</td>\n",
       "      <td>8.495414</td>\n",
       "      <td>16.945400</td>\n",
       "    </tr>\n",
       "    <tr>\n",
       "      <th>min</th>\n",
       "      <td>0.000000</td>\n",
       "      <td>1759.000000</td>\n",
       "      <td>1.000000</td>\n",
       "      <td>3.000000</td>\n",
       "      <td>0.000000</td>\n",
       "      <td>0.000000</td>\n",
       "      <td>0.000000</td>\n",
       "      <td>0.000000</td>\n",
       "      <td>0.000000</td>\n",
       "      <td>0.000000</td>\n",
       "    </tr>\n",
       "    <tr>\n",
       "      <th>25%</th>\n",
       "      <td>0.000000</td>\n",
       "      <td>5277.000000</td>\n",
       "      <td>6.000000</td>\n",
       "      <td>3.000000</td>\n",
       "      <td>8.000000</td>\n",
       "      <td>5.000000</td>\n",
       "      <td>8.000000</td>\n",
       "      <td>10.000000</td>\n",
       "      <td>2.000000</td>\n",
       "      <td>15.000000</td>\n",
       "    </tr>\n",
       "    <tr>\n",
       "      <th>50%</th>\n",
       "      <td>1.000000</td>\n",
       "      <td>8372.000000</td>\n",
       "      <td>12.000000</td>\n",
       "      <td>5.000000</td>\n",
       "      <td>11.000000</td>\n",
       "      <td>25.000000</td>\n",
       "      <td>14.000000</td>\n",
       "      <td>25.000000</td>\n",
       "      <td>8.000000</td>\n",
       "      <td>30.000000</td>\n",
       "    </tr>\n",
       "    <tr>\n",
       "      <th>75%</th>\n",
       "      <td>1.000000</td>\n",
       "      <td>12373.000000</td>\n",
       "      <td>21.000000</td>\n",
       "      <td>6.000000</td>\n",
       "      <td>18.000000</td>\n",
       "      <td>40.000000</td>\n",
       "      <td>19.000000</td>\n",
       "      <td>35.000000</td>\n",
       "      <td>15.000000</td>\n",
       "      <td>45.000000</td>\n",
       "    </tr>\n",
       "    <tr>\n",
       "      <th>max</th>\n",
       "      <td>4.000000</td>\n",
       "      <td>79512.000000</td>\n",
       "      <td>27.000000</td>\n",
       "      <td>6.000000</td>\n",
       "      <td>23.000000</td>\n",
       "      <td>55.000000</td>\n",
       "      <td>23.000000</td>\n",
       "      <td>55.000000</td>\n",
       "      <td>47.000000</td>\n",
       "      <td>55.000000</td>\n",
       "    </tr>\n",
       "  </tbody>\n",
       "</table>\n",
       "</div>"
      ],
      "text/plain": [
       "        Total_Stops         Price  Day_of_Journey  Month_of_Journey  \\\n",
       "count  10682.000000  10683.000000    10683.000000      10683.000000   \n",
       "mean       0.824190   9087.064121       13.508378          4.708602   \n",
       "std        0.675229   4611.359167        8.479277          1.164357   \n",
       "min        0.000000   1759.000000        1.000000          3.000000   \n",
       "25%        0.000000   5277.000000        6.000000          3.000000   \n",
       "50%        1.000000   8372.000000       12.000000          5.000000   \n",
       "75%        1.000000  12373.000000       21.000000          6.000000   \n",
       "max        4.000000  79512.000000       27.000000          6.000000   \n",
       "\n",
       "          Dep_Hours   Dep_Minutes  Arrival_Hours  Arrival_Minutes  \\\n",
       "count  10683.000000  10683.000000   10683.000000     10683.000000   \n",
       "mean      12.490686     24.411214      13.348778        24.690630   \n",
       "std        5.748650     18.767980       6.859125        16.506036   \n",
       "min        0.000000      0.000000       0.000000         0.000000   \n",
       "25%        8.000000      5.000000       8.000000        10.000000   \n",
       "50%       11.000000     25.000000      14.000000        25.000000   \n",
       "75%       18.000000     40.000000      19.000000        35.000000   \n",
       "max       23.000000     55.000000      23.000000        55.000000   \n",
       "\n",
       "       Duration_Hours  Duration_Minutes  \n",
       "count    10683.000000      10683.000000  \n",
       "mean        10.246092         28.327717  \n",
       "std          8.495414         16.945400  \n",
       "min          0.000000          0.000000  \n",
       "25%          2.000000         15.000000  \n",
       "50%          8.000000         30.000000  \n",
       "75%         15.000000         45.000000  \n",
       "max         47.000000         55.000000  "
      ]
     },
     "execution_count": 21,
     "metadata": {},
     "output_type": "execute_result"
    }
   ],
   "source": [
    "df.describe()"
   ]
  },
  {
   "cell_type": "markdown",
   "id": "7ec9ddad",
   "metadata": {},
   "source": [
    "#### The summary statistics for numerical variables displays properties like mean, standard deviation, quantiles, minimum, maximum values.\n",
    "#### insights: In the above output the average of Price is given as Rs. 9,087 and ranges between 1,759 and 79,512 rupees.The minimum Total_Stops is 0 that means no stops between the Source and Destination and the maximum Total_Stops is 4.  Month of Journey is between March to June of 2019. aslo Maximum hours of a flight journey is 47."
   ]
  },
  {
   "cell_type": "code",
   "execution_count": 22,
   "id": "6fe24d98",
   "metadata": {},
   "outputs": [
    {
     "data": {
      "text/html": [
       "<div>\n",
       "<style scoped>\n",
       "    .dataframe tbody tr th:only-of-type {\n",
       "        vertical-align: middle;\n",
       "    }\n",
       "\n",
       "    .dataframe tbody tr th {\n",
       "        vertical-align: top;\n",
       "    }\n",
       "\n",
       "    .dataframe thead th {\n",
       "        text-align: right;\n",
       "    }\n",
       "</style>\n",
       "<table border=\"1\" class=\"dataframe\">\n",
       "  <thead>\n",
       "    <tr style=\"text-align: right;\">\n",
       "      <th></th>\n",
       "      <th>Airline</th>\n",
       "      <th>Source</th>\n",
       "      <th>Destination</th>\n",
       "    </tr>\n",
       "  </thead>\n",
       "  <tbody>\n",
       "    <tr>\n",
       "      <th>count</th>\n",
       "      <td>10683</td>\n",
       "      <td>10683</td>\n",
       "      <td>10683</td>\n",
       "    </tr>\n",
       "    <tr>\n",
       "      <th>unique</th>\n",
       "      <td>12</td>\n",
       "      <td>5</td>\n",
       "      <td>5</td>\n",
       "    </tr>\n",
       "    <tr>\n",
       "      <th>top</th>\n",
       "      <td>Jet Airways</td>\n",
       "      <td>Delhi</td>\n",
       "      <td>Cochin</td>\n",
       "    </tr>\n",
       "    <tr>\n",
       "      <th>freq</th>\n",
       "      <td>3849</td>\n",
       "      <td>4537</td>\n",
       "      <td>4537</td>\n",
       "    </tr>\n",
       "  </tbody>\n",
       "</table>\n",
       "</div>"
      ],
      "text/plain": [
       "            Airline Source Destination\n",
       "count         10683  10683       10683\n",
       "unique           12      5           5\n",
       "top     Jet Airways  Delhi      Cochin\n",
       "freq           3849   4537        4537"
      ]
     },
     "execution_count": 22,
     "metadata": {},
     "output_type": "execute_result"
    }
   ],
   "source": [
    "df.describe(include='object')"
   ]
  },
  {
   "cell_type": "markdown",
   "id": "44170652",
   "metadata": {},
   "source": [
    "#### The summary statistics for categorical variables displays properties like count, unique, top, frequency values.\n",
    "#### Insights: From the above output we can say that the Airline variable contains 12 unique values, In that most of the passengers travel in ‘Jet Airways’ and most of the passengers were travelling from Delhi. and most of the passengers were travelling to Cochin."
   ]
  },
  {
   "cell_type": "markdown",
   "id": "828091a1",
   "metadata": {},
   "source": [
    "## 3.1.3 EDA"
   ]
  },
  {
   "cell_type": "code",
   "execution_count": 23,
   "id": "f0bc3036",
   "metadata": {},
   "outputs": [
    {
     "data": {
      "image/png": "[encoded data removed]",
      "text/plain": [
       "<Figure size 1800x1800 with 12 Axes>"
      ]
     },
     "metadata": {},
     "output_type": "display_data"
    }
   ],
   "source": [
    "df.hist(figsize=(18,18));"
   ]
  },
  {
   "cell_type": "markdown",
   "id": "7b1237f2",
   "metadata": {},
   "source": [
    "## Univariate Analysis"
   ]
  },
  {
   "cell_type": "code",
   "execution_count": 24,
   "id": "deb9c52f",
   "metadata": {},
   "outputs": [
    {
     "data": {
      "text/plain": [
       "Jet Airways                          3849\n",
       "IndiGo                               2053\n",
       "Air India                            1752\n",
       "Multiple carriers                    1196\n",
       "SpiceJet                              818\n",
       "Vistara                               479\n",
       "Air Asia                              319\n",
       "GoAir                                 194\n",
       "Multiple carriers Premium economy      13\n",
       "Jet Airways Business                    6\n",
       "Vistara Premium economy                 3\n",
       "Trujet                                  1\n",
       "Name: Airline, dtype: int64"
      ]
     },
     "execution_count": 24,
     "metadata": {},
     "output_type": "execute_result"
    }
   ],
   "source": [
    "airline = df.Airline.value_counts()\n",
    "airline"
   ]
  },
  {
   "cell_type": "code",
   "execution_count": 25,
   "id": "45cfde0e",
   "metadata": {},
   "outputs": [
    {
     "data": {
      "image/png": "[encoded data removed]",
      "text/plain": [
       "<Figure size 500x300 with 1 Axes>"
      ]
     },
     "metadata": {},
     "output_type": "display_data"
    }
   ],
   "source": [
    "plt.figure(figsize=(5,3))\n",
    "sns.countplot(df.Airline)\n",
    "plt.title('Distribution of Airlines')\n",
    "plt.xticks(rotation=90)\n",
    "plt.show()"
   ]
  },
  {
   "cell_type": "markdown",
   "id": "61a987b5",
   "metadata": {},
   "source": [
    "#### Insights:from above visualization we can clearly say that 'Jet Airways' is the airline with highest number of people travelled in it. also we can notice that airlines 'Multiple carriers Premium economy',  'Jet Airways Business',  'Vistara Premium economy', 'Trujet' have very least number of people preferring them. This leave us with a assumption that 'Jet Airways' have a best service and reasonable ticket prices which attracts passengers.    "
   ]
  },
  {
   "cell_type": "code",
   "execution_count": 26,
   "id": "7b6667d3",
   "metadata": {},
   "outputs": [
    {
     "data": {
      "image/png": "[encoded data removed]",
      "text/plain": [
       "<Figure size 800x500 with 1 Axes>"
      ]
     },
     "metadata": {},
     "output_type": "display_data"
    }
   ],
   "source": [
    "sns.countplot(df.Source)\n",
    "plt.text(x = 1.95, y = df.Source.value_counts()[0],\n",
    "         s = str(round((df.Source.value_counts()[0])*100/len(df.Source),2)) + '%')\n",
    "plt.text(x = 0.95, y = df.Source.value_counts()[1],\n",
    "         s = str(round((df.Source.value_counts()[1])*100/len(df.Source),2)) + '%')\n",
    "plt.text(x = -0.05, y = df.Source.value_counts()[2],\n",
    "         s = str(round((df.Source.value_counts()[2])*100/len(df.Source),2)) + '%')\n",
    "plt.text(x = 3.95, y = df.Source.value_counts()[3],\n",
    "         s = str(round((df.Source.value_counts()[3])*100/len(df.Source),2)) + '%')\n",
    "plt.text(x = 2.95, y = df.Source.value_counts()[4],\n",
    "         s = str(round((df.Source.value_counts()[4])*100/len(df.Source),2)) + '%')\n",
    "plt.show()"
   ]
  },
  {
   "cell_type": "markdown",
   "id": "de49ee94",
   "metadata": {},
   "source": [
    "#### Insights: the above output displays the number of source places. here we have total of 5 cities namely Banglore, kolkata, Delhi, Chennai and Mumbai. from the above result we can say that the people from Delhi are the ones who are highly travelling through flights compare to other cities. after the Delhi, More flight tickets are booked from kolkata and followed by bangalore. "
   ]
  },
  {
   "cell_type": "code",
   "execution_count": 27,
   "id": "ea3677e3",
   "metadata": {},
   "outputs": [
    {
     "data": {
      "image/png": "[encoded data removed]",
      "text/plain": [
       "<Figure size 800x500 with 1 Axes>"
      ]
     },
     "metadata": {},
     "output_type": "display_data"
    }
   ],
   "source": [
    "sns.countplot(df.Destination)\n",
    "plt.text(x = 1.95, y = df.Destination.value_counts()[0],\n",
    "         s = str(round((df.Destination.value_counts()[0])*100/len(df.Destination),2)) + '%')\n",
    "plt.text(x = 0.95, y = df.Destination.value_counts()[1],\n",
    "         s = str(round((df.Destination.value_counts()[1])*100/len(df.Destination),2)) + '%')\n",
    "plt.text(x = -0.05, y = df.Destination.value_counts()[2],\n",
    "         s = str(round((df.Destination.value_counts()[2])*100/len(df.Destination),2)) + '%')\n",
    "plt.text(x = 3.95, y = df.Destination.value_counts()[3],\n",
    "         s = str(round((df.Destination.value_counts()[3])*100/len(df.Destination),2)) + '%')\n",
    "plt.text(x = 2.95, y = df.Destination.value_counts()[4],\n",
    "         s = str(round((df.Destination.value_counts()[4])*100/len(df.Destination),2)) + '%')\n",
    "plt.show()"
   ]
  },
  {
   "cell_type": "markdown",
   "id": "3c420945",
   "metadata": {},
   "source": [
    "#### Insights: The above output  displayes the destination places the flight lands at. From the above result we can say that Cochin is the top city to which people are more travelling through flights compare to other four cities. Kolkata is the least city where people are  travelling to."
   ]
  },
  {
   "cell_type": "code",
   "execution_count": 28,
   "id": "9b49c6cf",
   "metadata": {},
   "outputs": [
    {
     "data": {
      "image/png": "[encoded data removed]",
      "text/plain": [
       "<Figure size 800x500 with 1 Axes>"
      ]
     },
     "metadata": {},
     "output_type": "display_data"
    }
   ],
   "source": [
    "sns.countplot(df.Month_of_Journey);"
   ]
  },
  {
   "cell_type": "markdown",
   "id": "03338039",
   "metadata": {},
   "source": [
    "#### Insights: The above result shows the months between March to June of 2019. we can see that most of the passengers are travelled in the months of may and june compare to march and april."
   ]
  },
  {
   "cell_type": "code",
   "execution_count": 88,
   "id": "e0ec99a6",
   "metadata": {},
   "outputs": [
    {
     "data": {
      "image/png": "[encoded data removed]",
      "text/plain": [
       "<Figure size 800x500 with 1 Axes>"
      ]
     },
     "metadata": {},
     "output_type": "display_data"
    }
   ],
   "source": [
    "plt.hist(df.Duration_Hours)\n",
    "plt.xticks(range(0,48,2))\n",
    "plt.xlabel(\"Duration_Hours\",size=10)\n",
    "plt.show()"
   ]
  },
  {
   "cell_type": "markdown",
   "id": "4c5c6456",
   "metadata": {},
   "source": [
    "#### Insights: the above result shows the number of hours the passenger travelled in the airline. as we can see that the maximum hours passengers travelled is 47."
   ]
  },
  {
   "cell_type": "markdown",
   "id": "8870e5f1",
   "metadata": {},
   "source": [
    "## Bivariate Analysis"
   ]
  },
  {
   "cell_type": "code",
   "execution_count": 30,
   "id": "af865ab9",
   "metadata": {},
   "outputs": [
    {
     "data": {
      "image/png": "[encoded data removed]",
      "text/plain": [
       "<Figure size 800x500 with 1 Axes>"
      ]
     },
     "metadata": {},
     "output_type": "display_data"
    }
   ],
   "source": [
    "sns.boxplot(y=df.Price, x=df.Total_Stops);"
   ]
  },
  {
   "cell_type": "markdown",
   "id": "52b6bc9b",
   "metadata": {},
   "source": [
    "#### Insights: the above output shows the relationship between variables Total_Stops and Price. from the above result we can say that these two variables are positively correlated, since the ticket prices are increasing as the Total_stops increasing. "
   ]
  },
  {
   "cell_type": "code",
   "execution_count": 31,
   "id": "d248398d",
   "metadata": {},
   "outputs": [
    {
     "data": {
      "image/png": "[encoded data removed]",
      "text/plain": [
       "<Figure size 800x500 with 1 Axes>"
      ]
     },
     "metadata": {},
     "output_type": "display_data"
    }
   ],
   "source": [
    "sns.boxplot(y=df.Price, x=df.Duration_Hours);"
   ]
  },
  {
   "cell_type": "markdown",
   "id": "a0470619",
   "metadata": {},
   "source": [
    "#### Insights: The above output shows the relationship between the variables Duration_Hours and the Price. by looking at the result we can say that there is poitive correlation between the two variables. because the ticket prices are increasing as the Duration of journey increasing."
   ]
  },
  {
   "cell_type": "code",
   "execution_count": 32,
   "id": "f3f833f3",
   "metadata": {},
   "outputs": [
    {
     "data": {
      "image/png": "[encoded data removed]",
      "text/plain": [
       "<Figure size 800x500 with 1 Axes>"
      ]
     },
     "metadata": {},
     "output_type": "display_data"
    }
   ],
   "source": [
    "sns.boxplot(y=df.Price, x=df.Airline)\n",
    "plt.xticks(rotation=90)\n",
    "plt.show()"
   ]
  },
  {
   "cell_type": "markdown",
   "id": "dd7002d0",
   "metadata": {},
   "source": [
    "#### Insights: the above output shows how the ticket prices are varying for different airlines. the result shows that the airline 'Jet Airways Business'  has high ticket prices ranges between 45,000 and 80,000 while the other airlines have price range between 1700 and 50,000."
   ]
  },
  {
   "cell_type": "markdown",
   "id": "37dddf07",
   "metadata": {},
   "source": [
    "## 3.1.4 Correlation"
   ]
  },
  {
   "cell_type": "code",
   "execution_count": 33,
   "id": "b0ab67b6",
   "metadata": {},
   "outputs": [
    {
     "data": {
      "image/png": "[encoded data removed]",
      "text/plain": [
       "<Figure size 800x500 with 2 Axes>"
      ]
     },
     "metadata": {},
     "output_type": "display_data"
    }
   ],
   "source": [
    "corr = df.drop('Price',axis=1).corr()\n",
    "\n",
    "sns.heatmap(corr, annot=True, fmt='.2f', annot_kws={'size':6})\n",
    "plt.show()"
   ]
  },
  {
   "cell_type": "markdown",
   "id": "3f744c67",
   "metadata": {},
   "source": [
    "#### Summary: the above heatmap shows that the variable 'Total_Stops' have a strong positive correlation with 'Duration_Hours' having a correlation 0.74. and all the other variables do not have any strong correlation between them."
   ]
  },
  {
   "cell_type": "markdown",
   "id": "7dfc9433",
   "metadata": {},
   "source": [
    "## 3.1.5 MISSING VALUE TREATMENT"
   ]
  },
  {
   "cell_type": "code",
   "execution_count": 34,
   "id": "0e4e8751",
   "metadata": {},
   "outputs": [
    {
     "data": {
      "text/plain": [
       "Airline             0\n",
       "Source              0\n",
       "Destination         0\n",
       "Total_Stops         1\n",
       "Price               0\n",
       "Day_of_Journey      0\n",
       "Month_of_Journey    0\n",
       "Dep_Hours           0\n",
       "Dep_Minutes         0\n",
       "Arrival_Hours       0\n",
       "Arrival_Minutes     0\n",
       "Duration_Hours      0\n",
       "Duration_Minutes    0\n",
       "dtype: int64"
      ]
     },
     "execution_count": 34,
     "metadata": {},
     "output_type": "execute_result"
    }
   ],
   "source": [
    "df.isnull().sum()"
   ]
  },
  {
   "cell_type": "code",
   "execution_count": 35,
   "id": "a3e4a7c8",
   "metadata": {},
   "outputs": [
    {
     "data": {
      "text/plain": [
       "Airline             0\n",
       "Source              0\n",
       "Destination         0\n",
       "Total_Stops         0\n",
       "Price               0\n",
       "Day_of_Journey      0\n",
       "Month_of_Journey    0\n",
       "Dep_Hours           0\n",
       "Dep_Minutes         0\n",
       "Arrival_Hours       0\n",
       "Arrival_Minutes     0\n",
       "Duration_Hours      0\n",
       "Duration_Minutes    0\n",
       "dtype: int64"
      ]
     },
     "execution_count": 35,
     "metadata": {},
     "output_type": "execute_result"
    }
   ],
   "source": [
    "# Removing the null values from the dataframe.\n",
    "\n",
    "df.dropna(axis=0, inplace=True)\n",
    "df.isnull().sum()"
   ]
  },
  {
   "cell_type": "code",
   "execution_count": 36,
   "id": "9d334f8d",
   "metadata": {},
   "outputs": [
    {
     "data": {
      "text/plain": [
       "(10682, 13)"
      ]
     },
     "execution_count": 36,
     "metadata": {},
     "output_type": "execute_result"
    }
   ],
   "source": [
    "df.shape"
   ]
  },
  {
   "cell_type": "markdown",
   "id": "e3b5ea86",
   "metadata": {},
   "source": [
    "## 3.1.6 Checking for Outliers"
   ]
  },
  {
   "cell_type": "code",
   "execution_count": 37,
   "id": "ad27c68f",
   "metadata": {},
   "outputs": [
    {
     "data": {
      "image/png": "[encoded data removed]",
      "text/plain": [
       "<Figure size 800x500 with 1 Axes>"
      ]
     },
     "metadata": {},
     "output_type": "display_data"
    }
   ],
   "source": [
    "sns.boxplot(df.Price);"
   ]
  },
  {
   "cell_type": "markdown",
   "id": "959d7913",
   "metadata": {},
   "source": [
    "#### Summary: From the above boxplot we can clearly notice that there are many outliers present in the dataset. this will highly deviates our models and results in less accuracy. Hence we remove them."
   ]
  },
  {
   "cell_type": "code",
   "execution_count": 38,
   "id": "892b21b4",
   "metadata": {},
   "outputs": [
    {
     "data": {
      "text/plain": [
       "(94, 13)"
      ]
     },
     "execution_count": 38,
     "metadata": {},
     "output_type": "execute_result"
    }
   ],
   "source": [
    "Q1 = df.Price.quantile(0.25)\n",
    "Q3 = df.Price.quantile(0.75)\n",
    "IQR = (Q3 - Q1)\n",
    "\n",
    "outliers = df[(df.Price <= Q1 - 1.5*IQR) | (df.Price >= Q3 + 1.5*IQR)]\n",
    "outliers.shape"
   ]
  },
  {
   "cell_type": "code",
   "execution_count": 39,
   "id": "b84757e6",
   "metadata": {},
   "outputs": [
    {
     "data": {
      "text/plain": [
       "(10588, 13)"
      ]
     },
     "execution_count": 39,
     "metadata": {},
     "output_type": "execute_result"
    }
   ],
   "source": [
    "df1 = df[(df.Price > Q1 - 1.5*IQR) & (df.Price < Q3 + 1.5*IQR)]\n",
    "df1 = df1.reset_index(drop=True)\n",
    "df1.shape"
   ]
  },
  {
   "cell_type": "markdown",
   "id": "8c87929f",
   "metadata": {},
   "source": [
    "### Identifying Incorrect Records"
   ]
  },
  {
   "cell_type": "markdown",
   "id": "4f38adaa",
   "metadata": {},
   "source": [
    "#### There might be a chance of having some unusual records in our dataset. As we know that duration time cannot be zero, if any such values are present we can say that they are incorrect values.let us check if any such records are present."
   ]
  },
  {
   "cell_type": "code",
   "execution_count": 40,
   "id": "47edd822",
   "metadata": {},
   "outputs": [
    {
     "data": {
      "text/html": [
       "<div>\n",
       "<style scoped>\n",
       "    .dataframe tbody tr th:only-of-type {\n",
       "        vertical-align: middle;\n",
       "    }\n",
       "\n",
       "    .dataframe tbody tr th {\n",
       "        vertical-align: top;\n",
       "    }\n",
       "\n",
       "    .dataframe thead th {\n",
       "        text-align: right;\n",
       "    }\n",
       "</style>\n",
       "<table border=\"1\" class=\"dataframe\">\n",
       "  <thead>\n",
       "    <tr style=\"text-align: right;\">\n",
       "      <th></th>\n",
       "      <th>6419</th>\n",
       "    </tr>\n",
       "  </thead>\n",
       "  <tbody>\n",
       "    <tr>\n",
       "      <th>Airline</th>\n",
       "      <td>Air India</td>\n",
       "    </tr>\n",
       "    <tr>\n",
       "      <th>Source</th>\n",
       "      <td>Mumbai</td>\n",
       "    </tr>\n",
       "    <tr>\n",
       "      <th>Destination</th>\n",
       "      <td>Hyderabad</td>\n",
       "    </tr>\n",
       "    <tr>\n",
       "      <th>Total_Stops</th>\n",
       "      <td>2.0</td>\n",
       "    </tr>\n",
       "    <tr>\n",
       "      <th>Price</th>\n",
       "      <td>17327</td>\n",
       "    </tr>\n",
       "    <tr>\n",
       "      <th>Day_of_Journey</th>\n",
       "      <td>6</td>\n",
       "    </tr>\n",
       "    <tr>\n",
       "      <th>Month_of_Journey</th>\n",
       "      <td>3</td>\n",
       "    </tr>\n",
       "    <tr>\n",
       "      <th>Dep_Hours</th>\n",
       "      <td>16</td>\n",
       "    </tr>\n",
       "    <tr>\n",
       "      <th>Dep_Minutes</th>\n",
       "      <td>50</td>\n",
       "    </tr>\n",
       "    <tr>\n",
       "      <th>Arrival_Hours</th>\n",
       "      <td>16</td>\n",
       "    </tr>\n",
       "    <tr>\n",
       "      <th>Arrival_Minutes</th>\n",
       "      <td>55</td>\n",
       "    </tr>\n",
       "    <tr>\n",
       "      <th>Duration_Hours</th>\n",
       "      <td>0</td>\n",
       "    </tr>\n",
       "    <tr>\n",
       "      <th>Duration_Minutes</th>\n",
       "      <td>5</td>\n",
       "    </tr>\n",
       "  </tbody>\n",
       "</table>\n",
       "</div>"
      ],
      "text/plain": [
       "                       6419\n",
       "Airline           Air India\n",
       "Source               Mumbai\n",
       "Destination       Hyderabad\n",
       "Total_Stops             2.0\n",
       "Price                 17327\n",
       "Day_of_Journey            6\n",
       "Month_of_Journey          3\n",
       "Dep_Hours                16\n",
       "Dep_Minutes              50\n",
       "Arrival_Hours            16\n",
       "Arrival_Minutes          55\n",
       "Duration_Hours            0\n",
       "Duration_Minutes          5"
      ]
     },
     "execution_count": 40,
     "metadata": {},
     "output_type": "execute_result"
    }
   ],
   "source": [
    "incorrect = df1[df1.Duration_Hours==0]\n",
    "incorrect.transpose()"
   ]
  },
  {
   "cell_type": "markdown",
   "id": "779b4d60",
   "metadata": {},
   "source": [
    "#### The above output returned one observation with Duration_Hours= 0 and Duration_Minutes= 5, indicating the Total Duration as 5 minutes from Mumbai to Hyderabad and total_stops= 2. This is clearly an incorrect observation because the flight cannot reach to Hyderabad from Mumbai in just 5 minutes. so, we drop this row."
   ]
  },
  {
   "cell_type": "code",
   "execution_count": 41,
   "id": "19a8595f",
   "metadata": {},
   "outputs": [
    {
     "data": {
      "text/plain": [
       "(10587, 13)"
      ]
     },
     "execution_count": 41,
     "metadata": {},
     "output_type": "execute_result"
    }
   ],
   "source": [
    "df1 = df1.drop(incorrect.index, axis=0)\n",
    "df1.shape"
   ]
  },
  {
   "cell_type": "markdown",
   "id": "c20909d3",
   "metadata": {},
   "source": [
    "## 3.2 Prepare Data"
   ]
  },
  {
   "cell_type": "markdown",
   "id": "719428a9",
   "metadata": {},
   "source": [
    "### 3.2.1 Check for Normality"
   ]
  },
  {
   "cell_type": "code",
   "execution_count": 42,
   "id": "72e5dd56",
   "metadata": {},
   "outputs": [
    {
     "data": {
      "image/png": "[encoded data removed]",
      "text/plain": [
       "<Figure size 800x500 with 1 Axes>"
      ]
     },
     "metadata": {},
     "output_type": "display_data"
    }
   ],
   "source": [
    "sns.distplot(df1.Price)\n",
    "plt.title('Distribution of Target Variable (Flight Price)', size=15)\n",
    "plt.xlabel('Flight Price', size=15)\n",
    "plt.show()"
   ]
  },
  {
   "cell_type": "markdown",
   "id": "1ccc7004",
   "metadata": {},
   "source": [
    "#### Summary: The above result shows that the variable Price is right skewed. So to normalise the distribution we take log of target variable."
   ]
  },
  {
   "cell_type": "code",
   "execution_count": 43,
   "id": "3a995e1d",
   "metadata": {},
   "outputs": [
    {
     "data": {
      "image/png": "[encoded data removed]",
      "text/plain": [
       "<Figure size 800x500 with 1 Axes>"
      ]
     },
     "metadata": {},
     "output_type": "display_data"
    }
   ],
   "source": [
    "log_Price = np.log(df1['Price'])\n",
    "\n",
    "sns.distplot(log_Price)\n",
    "plt.title('Distribution of log_Price', size=15)\n",
    "plt.xlabel('Flight Price', size=15)\n",
    "plt.show()"
   ]
  },
  {
   "cell_type": "code",
   "execution_count": 44,
   "id": "4501238e",
   "metadata": {},
   "outputs": [
    {
     "data": {
      "text/plain": [
       "0.4164583050919691"
      ]
     },
     "execution_count": 44,
     "metadata": {},
     "output_type": "execute_result"
    }
   ],
   "source": [
    "df1.Price.skew()"
   ]
  },
  {
   "cell_type": "code",
   "execution_count": 45,
   "id": "9156f5e7",
   "metadata": {},
   "outputs": [
    {
     "data": {
      "text/plain": [
       "-0.38203386806476375"
      ]
     },
     "execution_count": 45,
     "metadata": {},
     "output_type": "execute_result"
    }
   ],
   "source": [
    "log_Price.skew()"
   ]
  },
  {
   "cell_type": "markdown",
   "id": "7ecd7ba9",
   "metadata": {},
   "source": [
    "#### we can see that the log price is left skewed which is not much better than the actual price. Hence we use the actual price. "
   ]
  },
  {
   "cell_type": "markdown",
   "id": "c6828e2e",
   "metadata": {},
   "source": [
    "### 3.2.2 Dummy Encoding the categorical variables"
   ]
  },
  {
   "cell_type": "code",
   "execution_count": 46,
   "id": "25bf27b0",
   "metadata": {},
   "outputs": [
    {
     "data": {
      "text/html": [
       "<div>\n",
       "<style scoped>\n",
       "    .dataframe tbody tr th:only-of-type {\n",
       "        vertical-align: middle;\n",
       "    }\n",
       "\n",
       "    .dataframe tbody tr th {\n",
       "        vertical-align: top;\n",
       "    }\n",
       "\n",
       "    .dataframe thead th {\n",
       "        text-align: right;\n",
       "    }\n",
       "</style>\n",
       "<table border=\"1\" class=\"dataframe\">\n",
       "  <thead>\n",
       "    <tr style=\"text-align: right;\">\n",
       "      <th></th>\n",
       "      <th>Total_Stops</th>\n",
       "      <th>Price</th>\n",
       "      <th>Day_of_Journey</th>\n",
       "      <th>Month_of_Journey</th>\n",
       "      <th>Dep_Hours</th>\n",
       "      <th>Dep_Minutes</th>\n",
       "      <th>Arrival_Hours</th>\n",
       "      <th>Arrival_Minutes</th>\n",
       "      <th>Duration_Hours</th>\n",
       "      <th>Duration_Minutes</th>\n",
       "      <th>...</th>\n",
       "      <th>Source_Banglore</th>\n",
       "      <th>Source_Chennai</th>\n",
       "      <th>Source_Delhi</th>\n",
       "      <th>Source_Kolkata</th>\n",
       "      <th>Source_Mumbai</th>\n",
       "      <th>Destination_Banglore</th>\n",
       "      <th>Destination_Cochin</th>\n",
       "      <th>Destination_Delhi</th>\n",
       "      <th>Destination_Hyderabad</th>\n",
       "      <th>Destination_Kolkata</th>\n",
       "    </tr>\n",
       "  </thead>\n",
       "  <tbody>\n",
       "    <tr>\n",
       "      <th>0</th>\n",
       "      <td>0.0</td>\n",
       "      <td>3897</td>\n",
       "      <td>24</td>\n",
       "      <td>3</td>\n",
       "      <td>22</td>\n",
       "      <td>20</td>\n",
       "      <td>1</td>\n",
       "      <td>10</td>\n",
       "      <td>2</td>\n",
       "      <td>50</td>\n",
       "      <td>...</td>\n",
       "      <td>1</td>\n",
       "      <td>0</td>\n",
       "      <td>0</td>\n",
       "      <td>0</td>\n",
       "      <td>0</td>\n",
       "      <td>0</td>\n",
       "      <td>0</td>\n",
       "      <td>1</td>\n",
       "      <td>0</td>\n",
       "      <td>0</td>\n",
       "    </tr>\n",
       "    <tr>\n",
       "      <th>1</th>\n",
       "      <td>2.0</td>\n",
       "      <td>7662</td>\n",
       "      <td>1</td>\n",
       "      <td>5</td>\n",
       "      <td>5</td>\n",
       "      <td>50</td>\n",
       "      <td>13</td>\n",
       "      <td>15</td>\n",
       "      <td>7</td>\n",
       "      <td>25</td>\n",
       "      <td>...</td>\n",
       "      <td>0</td>\n",
       "      <td>0</td>\n",
       "      <td>0</td>\n",
       "      <td>1</td>\n",
       "      <td>0</td>\n",
       "      <td>1</td>\n",
       "      <td>0</td>\n",
       "      <td>0</td>\n",
       "      <td>0</td>\n",
       "      <td>0</td>\n",
       "    </tr>\n",
       "    <tr>\n",
       "      <th>2</th>\n",
       "      <td>2.0</td>\n",
       "      <td>13882</td>\n",
       "      <td>9</td>\n",
       "      <td>6</td>\n",
       "      <td>9</td>\n",
       "      <td>25</td>\n",
       "      <td>4</td>\n",
       "      <td>25</td>\n",
       "      <td>19</td>\n",
       "      <td>0</td>\n",
       "      <td>...</td>\n",
       "      <td>0</td>\n",
       "      <td>0</td>\n",
       "      <td>1</td>\n",
       "      <td>0</td>\n",
       "      <td>0</td>\n",
       "      <td>0</td>\n",
       "      <td>1</td>\n",
       "      <td>0</td>\n",
       "      <td>0</td>\n",
       "      <td>0</td>\n",
       "    </tr>\n",
       "    <tr>\n",
       "      <th>3</th>\n",
       "      <td>1.0</td>\n",
       "      <td>6218</td>\n",
       "      <td>12</td>\n",
       "      <td>5</td>\n",
       "      <td>18</td>\n",
       "      <td>5</td>\n",
       "      <td>23</td>\n",
       "      <td>30</td>\n",
       "      <td>5</td>\n",
       "      <td>25</td>\n",
       "      <td>...</td>\n",
       "      <td>0</td>\n",
       "      <td>0</td>\n",
       "      <td>0</td>\n",
       "      <td>1</td>\n",
       "      <td>0</td>\n",
       "      <td>1</td>\n",
       "      <td>0</td>\n",
       "      <td>0</td>\n",
       "      <td>0</td>\n",
       "      <td>0</td>\n",
       "    </tr>\n",
       "    <tr>\n",
       "      <th>4</th>\n",
       "      <td>1.0</td>\n",
       "      <td>13302</td>\n",
       "      <td>1</td>\n",
       "      <td>3</td>\n",
       "      <td>16</td>\n",
       "      <td>50</td>\n",
       "      <td>21</td>\n",
       "      <td>35</td>\n",
       "      <td>4</td>\n",
       "      <td>45</td>\n",
       "      <td>...</td>\n",
       "      <td>1</td>\n",
       "      <td>0</td>\n",
       "      <td>0</td>\n",
       "      <td>0</td>\n",
       "      <td>0</td>\n",
       "      <td>0</td>\n",
       "      <td>0</td>\n",
       "      <td>1</td>\n",
       "      <td>0</td>\n",
       "      <td>0</td>\n",
       "    </tr>\n",
       "  </tbody>\n",
       "</table>\n",
       "<p>5 rows × 31 columns</p>\n",
       "</div>"
      ],
      "text/plain": [
       "   Total_Stops  Price  Day_of_Journey  Month_of_Journey  Dep_Hours  \\\n",
       "0          0.0   3897              24                 3         22   \n",
       "1          2.0   7662               1                 5          5   \n",
       "2          2.0  13882               9                 6          9   \n",
       "3          1.0   6218              12                 5         18   \n",
       "4          1.0  13302               1                 3         16   \n",
       "\n",
       "   Dep_Minutes  Arrival_Hours  Arrival_Minutes  Duration_Hours  \\\n",
       "0           20              1               10               2   \n",
       "1           50             13               15               7   \n",
       "2           25              4               25              19   \n",
       "3            5             23               30               5   \n",
       "4           50             21               35               4   \n",
       "\n",
       "   Duration_Minutes  ...  Source_Banglore  Source_Chennai  Source_Delhi  \\\n",
       "0                50  ...                1               0             0   \n",
       "1                25  ...                0               0             0   \n",
       "2                 0  ...                0               0             1   \n",
       "3                25  ...                0               0             0   \n",
       "4                45  ...                1               0             0   \n",
       "\n",
       "   Source_Kolkata  Source_Mumbai  Destination_Banglore  Destination_Cochin  \\\n",
       "0               0              0                     0                   0   \n",
       "1               1              0                     1                   0   \n",
       "2               0              0                     0                   1   \n",
       "3               1              0                     1                   0   \n",
       "4               0              0                     0                   0   \n",
       "\n",
       "   Destination_Delhi  Destination_Hyderabad  Destination_Kolkata  \n",
       "0                  1                      0                    0  \n",
       "1                  0                      0                    0  \n",
       "2                  0                      0                    0  \n",
       "3                  0                      0                    0  \n",
       "4                  1                      0                    0  \n",
       "\n",
       "[5 rows x 31 columns]"
      ]
     },
     "execution_count": 46,
     "metadata": {},
     "output_type": "execute_result"
    }
   ],
   "source": [
    "df_final = pd.get_dummies(df1)\n",
    "df_final.head()"
   ]
  },
  {
   "cell_type": "markdown",
   "id": "b45b2972",
   "metadata": {},
   "source": [
    "## Splitting the data"
   ]
  },
  {
   "cell_type": "markdown",
   "id": "363910af",
   "metadata": {},
   "source": [
    "#### Splittig the data into train and test sets by 80-20 ratio."
   ]
  },
  {
   "cell_type": "code",
   "execution_count": 47,
   "id": "b9dc6980",
   "metadata": {},
   "outputs": [
    {
     "name": "stdout",
     "output_type": "stream",
     "text": [
      "X_train shape: (2117, 30)\n",
      "y_train shape: (2117,)\n",
      "X_test shape: (8470, 30)\n",
      "y_test shape: (8470,)\n"
     ]
    }
   ],
   "source": [
    "X = df_final.drop(['Price'], axis=1)\n",
    "y = df_final.Price\n",
    "\n",
    "X_train, X_test, y_train, y_test = train_test_split(X, y, test_size=0.8, random_state=42)\n",
    "\n",
    "print('X_train shape:',X_train.shape)\n",
    "print('y_train shape:',y_train.shape)\n",
    "print('X_test shape:',X_test.shape)\n",
    "print('y_test shape:',y_test.shape)"
   ]
  },
  {
   "cell_type": "markdown",
   "id": "f20e7348",
   "metadata": {},
   "source": [
    "# 4. Feature Selection"
   ]
  },
  {
   "cell_type": "markdown",
   "id": "70cf4b7c",
   "metadata": {},
   "source": [
    "#### Selecting Important features using RandomForest "
   ]
  },
  {
   "cell_type": "code",
   "execution_count": 48,
   "id": "967476f4",
   "metadata": {},
   "outputs": [
    {
     "data": {
      "text/plain": [
       "RandomForestRegressor(n_estimators=1000, n_jobs=-1, random_state=10)"
      ]
     },
     "execution_count": 48,
     "metadata": {},
     "output_type": "execute_result"
    }
   ],
   "source": [
    "fs = RandomForestRegressor(n_estimators=1000, random_state=10, n_jobs=-1)\n",
    "\n",
    "fs.fit(X_train, y_train)"
   ]
  },
  {
   "cell_type": "code",
   "execution_count": 49,
   "id": "d0c1dff4",
   "metadata": {},
   "outputs": [],
   "source": [
    "feat_labels = X.columns.values\n",
    "\n",
    "feature_importance = []\n",
    "for feature in zip(feat_labels, fs.feature_importances_):\n",
    "    feature_importance.append(feature)"
   ]
  },
  {
   "cell_type": "code",
   "execution_count": 50,
   "id": "528b2d5e",
   "metadata": {},
   "outputs": [
    {
     "data": {
      "text/plain": [
       "[('Total_Stops', 0.028315788543843944),\n",
       " ('Day_of_Journey', 0.07314332908558518),\n",
       " ('Month_of_Journey', 0.07807550657231531),\n",
       " ('Dep_Hours', 0.02747569095962331),\n",
       " ('Dep_Minutes', 0.025024586029458364),\n",
       " ('Arrival_Hours', 0.02726964056203779),\n",
       " ('Arrival_Minutes', 0.027743861458796083),\n",
       " ('Duration_Hours', 0.5374178859670166),\n",
       " ('Duration_Minutes', 0.025913689182193708),\n",
       " ('Airline_Air Asia', 0.0006163069662439288),\n",
       " ('Airline_Air India', 0.00674234875477494),\n",
       " ('Airline_GoAir', 0.0024988603501012014),\n",
       " ('Airline_IndiGo', 0.008319493136290162),\n",
       " ('Airline_Jet Airways', 0.07735163771002158),\n",
       " ('Airline_Multiple carriers', 0.015580091843430746),\n",
       " ('Airline_Multiple carriers Premium economy', 0.0),\n",
       " ('Airline_SpiceJet', 0.006100727866950946),\n",
       " ('Airline_Trujet', 0.0),\n",
       " ('Airline_Vistara', 0.003928604973698779),\n",
       " ('Airline_Vistara Premium economy', 0.0),\n",
       " ('Source_Banglore', 0.0025303962099395318),\n",
       " ('Source_Chennai', 0.0006062905608235735),\n",
       " ('Source_Delhi', 0.002186900270416699),\n",
       " ('Source_Kolkata', 0.004718626321293537),\n",
       " ('Source_Mumbai', 0.004316271404828916),\n",
       " ('Destination_Banglore', 0.004687630240230234),\n",
       " ('Destination_Cochin', 0.0022826672334433484),\n",
       " ('Destination_Delhi', 0.002276965665741548),\n",
       " ('Destination_Hyderabad', 0.004280440738541865),\n",
       " ('Destination_Kolkata', 0.0005957613923582675)]"
      ]
     },
     "execution_count": 50,
     "metadata": {},
     "output_type": "execute_result"
    }
   ],
   "source": [
    "feature_importance"
   ]
  },
  {
   "cell_type": "code",
   "execution_count": 51,
   "id": "beb010e5",
   "metadata": {},
   "outputs": [
    {
     "data": {
      "text/plain": [
       "SelectFromModel(estimator=RandomForestRegressor(n_estimators=1000, n_jobs=-1,\n",
       "                                                random_state=10),\n",
       "                threshold=0.001)"
      ]
     },
     "execution_count": 51,
     "metadata": {},
     "output_type": "execute_result"
    }
   ],
   "source": [
    "from sklearn.feature_selection import SelectFromModel\n",
    "\n",
    "sfm = SelectFromModel(fs, threshold=0.001)\n",
    "\n",
    "sfm.fit(X_train, y_train)"
   ]
  },
  {
   "cell_type": "code",
   "execution_count": 52,
   "id": "14cab49b",
   "metadata": {},
   "outputs": [],
   "source": [
    "selected_features = []\n",
    "\n",
    "for feature_list_index in sfm.get_support(indices=True):\n",
    "    selected_features.append(feat_labels[feature_list_index])"
   ]
  },
  {
   "cell_type": "code",
   "execution_count": 53,
   "id": "2318f8e0",
   "metadata": {},
   "outputs": [
    {
     "data": {
      "text/plain": [
       "['Total_Stops',\n",
       " 'Day_of_Journey',\n",
       " 'Month_of_Journey',\n",
       " 'Dep_Hours',\n",
       " 'Dep_Minutes',\n",
       " 'Arrival_Hours',\n",
       " 'Arrival_Minutes',\n",
       " 'Duration_Hours',\n",
       " 'Duration_Minutes',\n",
       " 'Airline_Air India',\n",
       " 'Airline_GoAir',\n",
       " 'Airline_IndiGo',\n",
       " 'Airline_Jet Airways',\n",
       " 'Airline_Multiple carriers',\n",
       " 'Airline_SpiceJet',\n",
       " 'Airline_Vistara',\n",
       " 'Source_Banglore',\n",
       " 'Source_Delhi',\n",
       " 'Source_Kolkata',\n",
       " 'Source_Mumbai',\n",
       " 'Destination_Banglore',\n",
       " 'Destination_Cochin',\n",
       " 'Destination_Delhi',\n",
       " 'Destination_Hyderabad']"
      ]
     },
     "execution_count": 53,
     "metadata": {},
     "output_type": "execute_result"
    }
   ],
   "source": [
    "selected_features"
   ]
  },
  {
   "cell_type": "code",
   "execution_count": 54,
   "id": "e2dbf576",
   "metadata": {},
   "outputs": [
    {
     "data": {
      "text/html": [
       "<div>\n",
       "<style scoped>\n",
       "    .dataframe tbody tr th:only-of-type {\n",
       "        vertical-align: middle;\n",
       "    }\n",
       "\n",
       "    .dataframe tbody tr th {\n",
       "        vertical-align: top;\n",
       "    }\n",
       "\n",
       "    .dataframe thead th {\n",
       "        text-align: right;\n",
       "    }\n",
       "</style>\n",
       "<table border=\"1\" class=\"dataframe\">\n",
       "  <thead>\n",
       "    <tr style=\"text-align: right;\">\n",
       "      <th></th>\n",
       "      <th>Total_Stops</th>\n",
       "      <th>Day_of_Journey</th>\n",
       "      <th>Month_of_Journey</th>\n",
       "      <th>Dep_Hours</th>\n",
       "      <th>Dep_Minutes</th>\n",
       "      <th>Arrival_Hours</th>\n",
       "      <th>Arrival_Minutes</th>\n",
       "      <th>Duration_Hours</th>\n",
       "      <th>Duration_Minutes</th>\n",
       "      <th>Airline_Air India</th>\n",
       "      <th>...</th>\n",
       "      <th>Airline_SpiceJet</th>\n",
       "      <th>Airline_Vistara</th>\n",
       "      <th>Source_Banglore</th>\n",
       "      <th>Source_Delhi</th>\n",
       "      <th>Source_Kolkata</th>\n",
       "      <th>Source_Mumbai</th>\n",
       "      <th>Destination_Banglore</th>\n",
       "      <th>Destination_Cochin</th>\n",
       "      <th>Destination_Delhi</th>\n",
       "      <th>Destination_Hyderabad</th>\n",
       "    </tr>\n",
       "  </thead>\n",
       "  <tbody>\n",
       "    <tr>\n",
       "      <th>0</th>\n",
       "      <td>0.0</td>\n",
       "      <td>24</td>\n",
       "      <td>3</td>\n",
       "      <td>22</td>\n",
       "      <td>20</td>\n",
       "      <td>1</td>\n",
       "      <td>10</td>\n",
       "      <td>2</td>\n",
       "      <td>50</td>\n",
       "      <td>0</td>\n",
       "      <td>...</td>\n",
       "      <td>0</td>\n",
       "      <td>0</td>\n",
       "      <td>1</td>\n",
       "      <td>0</td>\n",
       "      <td>0</td>\n",
       "      <td>0</td>\n",
       "      <td>0</td>\n",
       "      <td>0</td>\n",
       "      <td>1</td>\n",
       "      <td>0</td>\n",
       "    </tr>\n",
       "    <tr>\n",
       "      <th>1</th>\n",
       "      <td>2.0</td>\n",
       "      <td>1</td>\n",
       "      <td>5</td>\n",
       "      <td>5</td>\n",
       "      <td>50</td>\n",
       "      <td>13</td>\n",
       "      <td>15</td>\n",
       "      <td>7</td>\n",
       "      <td>25</td>\n",
       "      <td>1</td>\n",
       "      <td>...</td>\n",
       "      <td>0</td>\n",
       "      <td>0</td>\n",
       "      <td>0</td>\n",
       "      <td>0</td>\n",
       "      <td>1</td>\n",
       "      <td>0</td>\n",
       "      <td>1</td>\n",
       "      <td>0</td>\n",
       "      <td>0</td>\n",
       "      <td>0</td>\n",
       "    </tr>\n",
       "    <tr>\n",
       "      <th>2</th>\n",
       "      <td>2.0</td>\n",
       "      <td>9</td>\n",
       "      <td>6</td>\n",
       "      <td>9</td>\n",
       "      <td>25</td>\n",
       "      <td>4</td>\n",
       "      <td>25</td>\n",
       "      <td>19</td>\n",
       "      <td>0</td>\n",
       "      <td>0</td>\n",
       "      <td>...</td>\n",
       "      <td>0</td>\n",
       "      <td>0</td>\n",
       "      <td>0</td>\n",
       "      <td>1</td>\n",
       "      <td>0</td>\n",
       "      <td>0</td>\n",
       "      <td>0</td>\n",
       "      <td>1</td>\n",
       "      <td>0</td>\n",
       "      <td>0</td>\n",
       "    </tr>\n",
       "    <tr>\n",
       "      <th>3</th>\n",
       "      <td>1.0</td>\n",
       "      <td>12</td>\n",
       "      <td>5</td>\n",
       "      <td>18</td>\n",
       "      <td>5</td>\n",
       "      <td>23</td>\n",
       "      <td>30</td>\n",
       "      <td>5</td>\n",
       "      <td>25</td>\n",
       "      <td>0</td>\n",
       "      <td>...</td>\n",
       "      <td>0</td>\n",
       "      <td>0</td>\n",
       "      <td>0</td>\n",
       "      <td>0</td>\n",
       "      <td>1</td>\n",
       "      <td>0</td>\n",
       "      <td>1</td>\n",
       "      <td>0</td>\n",
       "      <td>0</td>\n",
       "      <td>0</td>\n",
       "    </tr>\n",
       "    <tr>\n",
       "      <th>4</th>\n",
       "      <td>1.0</td>\n",
       "      <td>1</td>\n",
       "      <td>3</td>\n",
       "      <td>16</td>\n",
       "      <td>50</td>\n",
       "      <td>21</td>\n",
       "      <td>35</td>\n",
       "      <td>4</td>\n",
       "      <td>45</td>\n",
       "      <td>0</td>\n",
       "      <td>...</td>\n",
       "      <td>0</td>\n",
       "      <td>0</td>\n",
       "      <td>1</td>\n",
       "      <td>0</td>\n",
       "      <td>0</td>\n",
       "      <td>0</td>\n",
       "      <td>0</td>\n",
       "      <td>0</td>\n",
       "      <td>1</td>\n",
       "      <td>0</td>\n",
       "    </tr>\n",
       "  </tbody>\n",
       "</table>\n",
       "<p>5 rows × 24 columns</p>\n",
       "</div>"
      ],
      "text/plain": [
       "   Total_Stops  Day_of_Journey  Month_of_Journey  Dep_Hours  Dep_Minutes  \\\n",
       "0          0.0              24                 3         22           20   \n",
       "1          2.0               1                 5          5           50   \n",
       "2          2.0               9                 6          9           25   \n",
       "3          1.0              12                 5         18            5   \n",
       "4          1.0               1                 3         16           50   \n",
       "\n",
       "   Arrival_Hours  Arrival_Minutes  Duration_Hours  Duration_Minutes  \\\n",
       "0              1               10               2                50   \n",
       "1             13               15               7                25   \n",
       "2              4               25              19                 0   \n",
       "3             23               30               5                25   \n",
       "4             21               35               4                45   \n",
       "\n",
       "   Airline_Air India  ...  Airline_SpiceJet  Airline_Vistara  Source_Banglore  \\\n",
       "0                  0  ...                 0                0                1   \n",
       "1                  1  ...                 0                0                0   \n",
       "2                  0  ...                 0                0                0   \n",
       "3                  0  ...                 0                0                0   \n",
       "4                  0  ...                 0                0                1   \n",
       "\n",
       "   Source_Delhi  Source_Kolkata  Source_Mumbai  Destination_Banglore  \\\n",
       "0             0               0              0                     0   \n",
       "1             0               1              0                     1   \n",
       "2             1               0              0                     0   \n",
       "3             0               1              0                     1   \n",
       "4             0               0              0                     0   \n",
       "\n",
       "   Destination_Cochin  Destination_Delhi  Destination_Hyderabad  \n",
       "0                   0                  1                      0  \n",
       "1                   0                  0                      0  \n",
       "2                   1                  0                      0  \n",
       "3                   0                  0                      0  \n",
       "4                   0                  1                      0  \n",
       "\n",
       "[5 rows x 24 columns]"
      ]
     },
     "execution_count": 54,
     "metadata": {},
     "output_type": "execute_result"
    }
   ],
   "source": [
    "data_selected = df_final[selected_features]\n",
    "data_selected.head()"
   ]
  },
  {
   "cell_type": "code",
   "execution_count": 55,
   "id": "d8d6cb5f",
   "metadata": {},
   "outputs": [
    {
     "data": {
      "text/plain": [
       "(10587, 24)"
      ]
     },
     "execution_count": 55,
     "metadata": {},
     "output_type": "execute_result"
    }
   ],
   "source": [
    "data_selected.shape"
   ]
  },
  {
   "cell_type": "code",
   "execution_count": 56,
   "id": "61538118",
   "metadata": {},
   "outputs": [
    {
     "name": "stdout",
     "output_type": "stream",
     "text": [
      "X_train shape: (8469, 24)\n",
      "X_test shape: (2118, 24)\n",
      "y_train shape: (8469,)\n",
      "y_test shape: (2118,)\n"
     ]
    }
   ],
   "source": [
    "X = data_selected\n",
    "y = df_final.Price\n",
    "\n",
    "X_train, X_test, y_train, y_test = train_test_split(X, y, test_size=0.2, random_state=100)\n",
    "\n",
    "print('X_train shape:',X_train.shape)\n",
    "print('X_test shape:',X_test.shape)\n",
    "print('y_train shape:',y_train.shape)\n",
    "print('y_test shape:',y_test.shape)"
   ]
  },
  {
   "cell_type": "markdown",
   "id": "9df0020d",
   "metadata": {},
   "source": [
    "# 5.MODEL BUILDING"
   ]
  },
  {
   "cell_type": "markdown",
   "id": "8f471d19",
   "metadata": {},
   "source": [
    "\n",
    "\n",
    "## 5.1 Linear Regression"
   ]
  },
  {
   "cell_type": "code",
   "execution_count": 57,
   "id": "457dcf00",
   "metadata": {},
   "outputs": [
    {
     "data": {
      "text/plain": [
       "LinearRegression()"
      ]
     },
     "execution_count": 57,
     "metadata": {},
     "output_type": "execute_result"
    }
   ],
   "source": [
    "# model fitting\n",
    "\n",
    "lin_model = LinearRegression()\n",
    "lin_model.fit(X_train, y_train)"
   ]
  },
  {
   "cell_type": "code",
   "execution_count": 58,
   "id": "f430ab8e",
   "metadata": {},
   "outputs": [],
   "source": [
    "# model predictions\n",
    "\n",
    "lin_pred = lin_model.predict(X_test)"
   ]
  },
  {
   "cell_type": "code",
   "execution_count": 59,
   "id": "0b2fb1a7",
   "metadata": {},
   "outputs": [
    {
     "data": {
      "text/html": [
       "<div>\n",
       "<style scoped>\n",
       "    .dataframe tbody tr th:only-of-type {\n",
       "        vertical-align: middle;\n",
       "    }\n",
       "\n",
       "    .dataframe tbody tr th {\n",
       "        vertical-align: top;\n",
       "    }\n",
       "\n",
       "    .dataframe thead th {\n",
       "        text-align: right;\n",
       "    }\n",
       "</style>\n",
       "<table border=\"1\" class=\"dataframe\">\n",
       "  <thead>\n",
       "    <tr style=\"text-align: right;\">\n",
       "      <th></th>\n",
       "      <th>Model</th>\n",
       "      <th>MAE</th>\n",
       "      <th>MSE</th>\n",
       "      <th>RMSE</th>\n",
       "      <th>Score</th>\n",
       "    </tr>\n",
       "  </thead>\n",
       "  <tbody>\n",
       "    <tr>\n",
       "      <th>0</th>\n",
       "      <td>Linear Regression</td>\n",
       "      <td>1826.86663</td>\n",
       "      <td>5.955844e+06</td>\n",
       "      <td>2440.459717</td>\n",
       "      <td>0.637207</td>\n",
       "    </tr>\n",
       "  </tbody>\n",
       "</table>\n",
       "</div>"
      ],
      "text/plain": [
       "               Model         MAE           MSE         RMSE     Score\n",
       "0  Linear Regression  1826.86663  5.955844e+06  2440.459717  0.637207"
      ]
     },
     "execution_count": 59,
     "metadata": {},
     "output_type": "execute_result"
    }
   ],
   "source": [
    "# Calculationg and Tabulating the performance metrics of the model\n",
    "\n",
    "cols = ['Model', 'MAE', 'MSE', 'RMSE']\n",
    "\n",
    "result_tabulation = pd.DataFrame(columns = cols)\n",
    "\n",
    "reg_metrics = pd.Series({'Model': \"Linear Regression\",\n",
    "                     'MAE': metrics.mean_absolute_error(y_test, lin_pred),\n",
    "                     'MSE': metrics.mean_squared_error(y_test, lin_pred),\n",
    "                     'RMSE': np.sqrt(metrics.mean_squared_error(y_test, lin_pred)),\n",
    "                     'Score': lin_model.score(X_test, y_test)  \n",
    "                   })\n",
    "\n",
    "result_tabulation = result_tabulation.append(reg_metrics, ignore_index = True)\n",
    "\n",
    "result_tabulation"
   ]
  },
  {
   "cell_type": "markdown",
   "id": "3c0f96bf",
   "metadata": {},
   "source": [
    "## 5.2 Decision Tree"
   ]
  },
  {
   "cell_type": "code",
   "execution_count": 60,
   "id": "fe781542",
   "metadata": {},
   "outputs": [],
   "source": [
    "Dec_tree = DecisionTreeRegressor(criterion='squared_error', max_depth=10, min_samples_split=8, random_state=10)\n",
    "\n",
    "DT_model = Dec_tree.fit(X_train, y_train)"
   ]
  },
  {
   "cell_type": "code",
   "execution_count": 61,
   "id": "5fc8a3ec",
   "metadata": {},
   "outputs": [],
   "source": [
    "DT_pred = DT_model.predict(X_test)"
   ]
  },
  {
   "cell_type": "code",
   "execution_count": 62,
   "id": "8eb384cd",
   "metadata": {},
   "outputs": [
    {
     "data": {
      "text/html": [
       "<div>\n",
       "<style scoped>\n",
       "    .dataframe tbody tr th:only-of-type {\n",
       "        vertical-align: middle;\n",
       "    }\n",
       "\n",
       "    .dataframe tbody tr th {\n",
       "        vertical-align: top;\n",
       "    }\n",
       "\n",
       "    .dataframe thead th {\n",
       "        text-align: right;\n",
       "    }\n",
       "</style>\n",
       "<table border=\"1\" class=\"dataframe\">\n",
       "  <thead>\n",
       "    <tr style=\"text-align: right;\">\n",
       "      <th></th>\n",
       "      <th>Model</th>\n",
       "      <th>MAE</th>\n",
       "      <th>MSE</th>\n",
       "      <th>RMSE</th>\n",
       "      <th>Score</th>\n",
       "    </tr>\n",
       "  </thead>\n",
       "  <tbody>\n",
       "    <tr>\n",
       "      <th>0</th>\n",
       "      <td>Linear Regression</td>\n",
       "      <td>1826.866630</td>\n",
       "      <td>5.955844e+06</td>\n",
       "      <td>2440.459717</td>\n",
       "      <td>0.637207</td>\n",
       "    </tr>\n",
       "    <tr>\n",
       "      <th>1</th>\n",
       "      <td>Decision Tree</td>\n",
       "      <td>1247.673837</td>\n",
       "      <td>3.478665e+06</td>\n",
       "      <td>1865.118082</td>\n",
       "      <td>0.788101</td>\n",
       "    </tr>\n",
       "  </tbody>\n",
       "</table>\n",
       "</div>"
      ],
      "text/plain": [
       "               Model          MAE           MSE         RMSE     Score\n",
       "0  Linear Regression  1826.866630  5.955844e+06  2440.459717  0.637207\n",
       "1      Decision Tree  1247.673837  3.478665e+06  1865.118082  0.788101"
      ]
     },
     "execution_count": 62,
     "metadata": {},
     "output_type": "execute_result"
    }
   ],
   "source": [
    "reg_metrics = pd.Series({'Model': \"Decision Tree\",\n",
    "                     'MAE': metrics.mean_absolute_error(y_test, DT_pred),\n",
    "                     'MSE': metrics.mean_squared_error(y_test, DT_pred),\n",
    "                     'RMSE': np.sqrt(metrics.mean_squared_error(y_test, DT_pred)), \n",
    "                     'Score': DT_model.score(X_test, y_test)               \n",
    "                    })\n",
    "\n",
    "result_tabulation = result_tabulation.append(reg_metrics, ignore_index = True)\n",
    "\n",
    "result_tabulation"
   ]
  },
  {
   "cell_type": "markdown",
   "id": "ae1691f9",
   "metadata": {},
   "source": [
    "## 5.3 Random Forest"
   ]
  },
  {
   "cell_type": "code",
   "execution_count": 63,
   "id": "744ee6d5",
   "metadata": {},
   "outputs": [
    {
     "data": {
      "text/plain": [
       "RandomForestRegressor(n_estimators=1000, random_state=10)"
      ]
     },
     "execution_count": 63,
     "metadata": {},
     "output_type": "execute_result"
    }
   ],
   "source": [
    "RF_model = RandomForestRegressor(n_estimators=1000, random_state=10)\n",
    "\n",
    "RF_model.fit(X_train, y_train)"
   ]
  },
  {
   "cell_type": "code",
   "execution_count": 64,
   "id": "90ac8b67",
   "metadata": {},
   "outputs": [],
   "source": [
    "RF_pred = RF_model.predict(X_test)"
   ]
  },
  {
   "cell_type": "code",
   "execution_count": 65,
   "id": "ac626ac1",
   "metadata": {},
   "outputs": [
    {
     "data": {
      "text/html": [
       "<div>\n",
       "<style scoped>\n",
       "    .dataframe tbody tr th:only-of-type {\n",
       "        vertical-align: middle;\n",
       "    }\n",
       "\n",
       "    .dataframe tbody tr th {\n",
       "        vertical-align: top;\n",
       "    }\n",
       "\n",
       "    .dataframe thead th {\n",
       "        text-align: right;\n",
       "    }\n",
       "</style>\n",
       "<table border=\"1\" class=\"dataframe\">\n",
       "  <thead>\n",
       "    <tr style=\"text-align: right;\">\n",
       "      <th></th>\n",
       "      <th>Model</th>\n",
       "      <th>MAE</th>\n",
       "      <th>MSE</th>\n",
       "      <th>RMSE</th>\n",
       "      <th>Score</th>\n",
       "    </tr>\n",
       "  </thead>\n",
       "  <tbody>\n",
       "    <tr>\n",
       "      <th>0</th>\n",
       "      <td>Linear Regression</td>\n",
       "      <td>1826.866630</td>\n",
       "      <td>5.955844e+06</td>\n",
       "      <td>2440.459717</td>\n",
       "      <td>0.637207</td>\n",
       "    </tr>\n",
       "    <tr>\n",
       "      <th>1</th>\n",
       "      <td>Decision Tree</td>\n",
       "      <td>1247.673837</td>\n",
       "      <td>3.478665e+06</td>\n",
       "      <td>1865.118082</td>\n",
       "      <td>0.788101</td>\n",
       "    </tr>\n",
       "    <tr>\n",
       "      <th>2</th>\n",
       "      <td>Random Forest</td>\n",
       "      <td>1147.104255</td>\n",
       "      <td>3.208676e+06</td>\n",
       "      <td>1791.277653</td>\n",
       "      <td>0.804547</td>\n",
       "    </tr>\n",
       "  </tbody>\n",
       "</table>\n",
       "</div>"
      ],
      "text/plain": [
       "               Model          MAE           MSE         RMSE     Score\n",
       "0  Linear Regression  1826.866630  5.955844e+06  2440.459717  0.637207\n",
       "1      Decision Tree  1247.673837  3.478665e+06  1865.118082  0.788101\n",
       "2      Random Forest  1147.104255  3.208676e+06  1791.277653  0.804547"
      ]
     },
     "execution_count": 65,
     "metadata": {},
     "output_type": "execute_result"
    }
   ],
   "source": [
    "reg_metrics = pd.Series({'Model': \"Random Forest\",\n",
    "                     'MAE': metrics.mean_absolute_error(y_test, RF_pred),\n",
    "                     'MSE': metrics.mean_squared_error(y_test, RF_pred),\n",
    "                     'RMSE': np.sqrt(metrics.mean_squared_error(y_test, RF_pred)),\n",
    "                     'Score': RF_model.score(X_test, y_test)\n",
    "                   })\n",
    "\n",
    "result_tabulation = result_tabulation.append(reg_metrics, ignore_index = True)\n",
    "\n",
    "result_tabulation"
   ]
  },
  {
   "cell_type": "markdown",
   "id": "aab8842b",
   "metadata": {},
   "source": [
    "## 5.4 Random forest with GridSearchCV"
   ]
  },
  {
   "cell_type": "code",
   "execution_count": 66,
   "id": "934495b4",
   "metadata": {},
   "outputs": [],
   "source": [
    "tuned_paramaters = [{'n_estimators': [100, 120],\n",
    "                     'min_samples_split': [8, 10],\n",
    "                     'max_depth': [10, 15],\n",
    "                     'min_samples_leaf': [5, 10],\n",
    "                     'max_leaf_nodes': [15, 20]\n",
    "                    }]"
   ]
  },
  {
   "cell_type": "code",
   "execution_count": 67,
   "id": "ed329c53",
   "metadata": {},
   "outputs": [
    {
     "name": "stdout",
     "output_type": "stream",
     "text": [
      "Best parameters for random forest regressor:  {'max_depth': 10, 'max_leaf_nodes': 20, 'min_samples_leaf': 10, 'min_samples_split': 8, 'n_estimators': 100} \n",
      "\n"
     ]
    }
   ],
   "source": [
    "rf_reg_CV= RandomForestRegressor(random_state = 10)\n",
    "\n",
    "grid = GridSearchCV(estimator = rf_reg_CV, param_grid = tuned_paramaters, cv = 5)\n",
    "\n",
    "dt_grid = grid.fit(X_train, y_train)\n",
    "\n",
    "print('Best parameters for random forest regressor: ', dt_grid.best_params_, '\\n')"
   ]
  },
  {
   "cell_type": "code",
   "execution_count": 68,
   "id": "fbb485c5",
   "metadata": {},
   "outputs": [],
   "source": [
    "RF_grid_model = RandomForestRegressor(n_estimators= dt_grid.best_params_.get('n_estimators'),\n",
    "                                      max_depth = dt_grid.best_params_.get('max_depth'),\n",
    "                                      min_samples_split = dt_grid.best_params_.get('min_samples_split'),\n",
    "                                      min_samples_leaf = dt_grid.best_params_.get('min_samples_leaf'),\n",
    "                                      max_leaf_nodes = dt_grid.best_params_.get('max_leaf_nodes'),\n",
    "                                      random_state = 1)\n",
    "\n",
    "RF_grid_model = RF_grid_model.fit(X_train, y_train)"
   ]
  },
  {
   "cell_type": "code",
   "execution_count": 69,
   "id": "1964d516",
   "metadata": {},
   "outputs": [],
   "source": [
    "RF_grid_pred = RF_grid_model.predict(X_test)"
   ]
  },
  {
   "cell_type": "code",
   "execution_count": 70,
   "id": "670f063b",
   "metadata": {},
   "outputs": [
    {
     "data": {
      "text/html": [
       "<div>\n",
       "<style scoped>\n",
       "    .dataframe tbody tr th:only-of-type {\n",
       "        vertical-align: middle;\n",
       "    }\n",
       "\n",
       "    .dataframe tbody tr th {\n",
       "        vertical-align: top;\n",
       "    }\n",
       "\n",
       "    .dataframe thead th {\n",
       "        text-align: right;\n",
       "    }\n",
       "</style>\n",
       "<table border=\"1\" class=\"dataframe\">\n",
       "  <thead>\n",
       "    <tr style=\"text-align: right;\">\n",
       "      <th></th>\n",
       "      <th>Model</th>\n",
       "      <th>MAE</th>\n",
       "      <th>MSE</th>\n",
       "      <th>RMSE</th>\n",
       "      <th>Score</th>\n",
       "    </tr>\n",
       "  </thead>\n",
       "  <tbody>\n",
       "    <tr>\n",
       "      <th>0</th>\n",
       "      <td>Linear Regression</td>\n",
       "      <td>1826.866630</td>\n",
       "      <td>5.955844e+06</td>\n",
       "      <td>2440.459717</td>\n",
       "      <td>0.637207</td>\n",
       "    </tr>\n",
       "    <tr>\n",
       "      <th>1</th>\n",
       "      <td>Decision Tree</td>\n",
       "      <td>1247.673837</td>\n",
       "      <td>3.478665e+06</td>\n",
       "      <td>1865.118082</td>\n",
       "      <td>0.788101</td>\n",
       "    </tr>\n",
       "    <tr>\n",
       "      <th>2</th>\n",
       "      <td>Random Forest</td>\n",
       "      <td>1147.104255</td>\n",
       "      <td>3.208676e+06</td>\n",
       "      <td>1791.277653</td>\n",
       "      <td>0.804547</td>\n",
       "    </tr>\n",
       "    <tr>\n",
       "      <th>3</th>\n",
       "      <td>Random Forest with GridSearchCV</td>\n",
       "      <td>1615.171819</td>\n",
       "      <td>4.522262e+06</td>\n",
       "      <td>2126.561003</td>\n",
       "      <td>0.724532</td>\n",
       "    </tr>\n",
       "  </tbody>\n",
       "</table>\n",
       "</div>"
      ],
      "text/plain": [
       "                             Model          MAE           MSE         RMSE  \\\n",
       "0                Linear Regression  1826.866630  5.955844e+06  2440.459717   \n",
       "1                    Decision Tree  1247.673837  3.478665e+06  1865.118082   \n",
       "2                    Random Forest  1147.104255  3.208676e+06  1791.277653   \n",
       "3  Random Forest with GridSearchCV  1615.171819  4.522262e+06  2126.561003   \n",
       "\n",
       "      Score  \n",
       "0  0.637207  \n",
       "1  0.788101  \n",
       "2  0.804547  \n",
       "3  0.724532  "
      ]
     },
     "execution_count": 70,
     "metadata": {},
     "output_type": "execute_result"
    }
   ],
   "source": [
    "reg_metrics = pd.Series({'Model': \"Random Forest with GridSearchCV\",\n",
    "                     'MAE': metrics.mean_absolute_error(y_test, RF_grid_pred),\n",
    "                     'MSE': metrics.mean_squared_error(y_test, RF_grid_pred),\n",
    "                     'RMSE': np.sqrt(metrics.mean_squared_error(y_test, RF_grid_pred)),\n",
    "                     'Score': RF_grid_model.score(X_test, y_test)\n",
    "                   })\n",
    "\n",
    "result_tabulation = result_tabulation.append(reg_metrics, ignore_index = True)\n",
    "\n",
    "result_tabulation"
   ]
  },
  {
   "cell_type": "markdown",
   "id": "0f0f2914",
   "metadata": {},
   "source": [
    "## 5.5 Bagging meta estimator"
   ]
  },
  {
   "cell_type": "code",
   "execution_count": 71,
   "id": "c2d35e91",
   "metadata": {},
   "outputs": [
    {
     "data": {
      "text/plain": [
       "BaggingRegressor(n_estimators=1000, random_state=10)"
      ]
     },
     "execution_count": 71,
     "metadata": {},
     "output_type": "execute_result"
    }
   ],
   "source": [
    "meta_estimator = BaggingRegressor(n_estimators=1000, random_state=10)\n",
    "\n",
    "meta_estimator.fit(X_train, y_train)"
   ]
  },
  {
   "cell_type": "code",
   "execution_count": 72,
   "id": "6124a88c",
   "metadata": {},
   "outputs": [],
   "source": [
    "meta_pred = meta_estimator.predict(X_test)"
   ]
  },
  {
   "cell_type": "code",
   "execution_count": 73,
   "id": "d310e6fc",
   "metadata": {},
   "outputs": [
    {
     "data": {
      "text/html": [
       "<div>\n",
       "<style scoped>\n",
       "    .dataframe tbody tr th:only-of-type {\n",
       "        vertical-align: middle;\n",
       "    }\n",
       "\n",
       "    .dataframe tbody tr th {\n",
       "        vertical-align: top;\n",
       "    }\n",
       "\n",
       "    .dataframe thead th {\n",
       "        text-align: right;\n",
       "    }\n",
       "</style>\n",
       "<table border=\"1\" class=\"dataframe\">\n",
       "  <thead>\n",
       "    <tr style=\"text-align: right;\">\n",
       "      <th></th>\n",
       "      <th>Model</th>\n",
       "      <th>MAE</th>\n",
       "      <th>MSE</th>\n",
       "      <th>RMSE</th>\n",
       "      <th>Score</th>\n",
       "    </tr>\n",
       "  </thead>\n",
       "  <tbody>\n",
       "    <tr>\n",
       "      <th>0</th>\n",
       "      <td>Linear Regression</td>\n",
       "      <td>1826.866630</td>\n",
       "      <td>5.955844e+06</td>\n",
       "      <td>2440.459717</td>\n",
       "      <td>0.637207</td>\n",
       "    </tr>\n",
       "    <tr>\n",
       "      <th>1</th>\n",
       "      <td>Decision Tree</td>\n",
       "      <td>1247.673837</td>\n",
       "      <td>3.478665e+06</td>\n",
       "      <td>1865.118082</td>\n",
       "      <td>0.788101</td>\n",
       "    </tr>\n",
       "    <tr>\n",
       "      <th>2</th>\n",
       "      <td>Random Forest</td>\n",
       "      <td>1147.104255</td>\n",
       "      <td>3.208676e+06</td>\n",
       "      <td>1791.277653</td>\n",
       "      <td>0.804547</td>\n",
       "    </tr>\n",
       "    <tr>\n",
       "      <th>3</th>\n",
       "      <td>Random Forest with GridSearchCV</td>\n",
       "      <td>1615.171819</td>\n",
       "      <td>4.522262e+06</td>\n",
       "      <td>2126.561003</td>\n",
       "      <td>0.724532</td>\n",
       "    </tr>\n",
       "    <tr>\n",
       "      <th>4</th>\n",
       "      <td>Bagging meta estimator</td>\n",
       "      <td>1147.233929</td>\n",
       "      <td>3.207571e+06</td>\n",
       "      <td>1790.969386</td>\n",
       "      <td>0.804615</td>\n",
       "    </tr>\n",
       "  </tbody>\n",
       "</table>\n",
       "</div>"
      ],
      "text/plain": [
       "                             Model          MAE           MSE         RMSE  \\\n",
       "0                Linear Regression  1826.866630  5.955844e+06  2440.459717   \n",
       "1                    Decision Tree  1247.673837  3.478665e+06  1865.118082   \n",
       "2                    Random Forest  1147.104255  3.208676e+06  1791.277653   \n",
       "3  Random Forest with GridSearchCV  1615.171819  4.522262e+06  2126.561003   \n",
       "4           Bagging meta estimator  1147.233929  3.207571e+06  1790.969386   \n",
       "\n",
       "      Score  \n",
       "0  0.637207  \n",
       "1  0.788101  \n",
       "2  0.804547  \n",
       "3  0.724532  \n",
       "4  0.804615  "
      ]
     },
     "execution_count": 73,
     "metadata": {},
     "output_type": "execute_result"
    }
   ],
   "source": [
    "reg_metrics = pd.Series({'Model': \"Bagging meta estimator\",\n",
    "                     'MAE': metrics.mean_absolute_error(y_test, meta_pred),\n",
    "                     'MSE': metrics.mean_squared_error(y_test, meta_pred),\n",
    "                     'RMSE': np.sqrt(metrics.mean_squared_error(y_test, meta_pred)),\n",
    "                     'Score': meta_estimator.score(X_test, y_test)\n",
    "                   })\n",
    "\n",
    "result_tabulation = result_tabulation.append(reg_metrics, ignore_index = True)\n",
    "\n",
    "result_tabulation"
   ]
  },
  {
   "cell_type": "markdown",
   "id": "faea85fb",
   "metadata": {},
   "source": [
    "## 5.6 Adaboost"
   ]
  },
  {
   "cell_type": "code",
   "execution_count": 74,
   "id": "0ea76cd6",
   "metadata": {},
   "outputs": [
    {
     "data": {
      "text/plain": [
       "AdaBoostRegressor(learning_rate=0.1, n_estimators=100, random_state=10)"
      ]
     },
     "execution_count": 74,
     "metadata": {},
     "output_type": "execute_result"
    }
   ],
   "source": [
    "adaboost = AdaBoostRegressor(n_estimators=100, learning_rate=0.1, random_state=10)\n",
    "\n",
    "adaboost.fit(X_train, y_train)"
   ]
  },
  {
   "cell_type": "code",
   "execution_count": 75,
   "id": "387fc4e0",
   "metadata": {},
   "outputs": [],
   "source": [
    "adaboost_pred = adaboost.predict(X_test)"
   ]
  },
  {
   "cell_type": "code",
   "execution_count": 76,
   "id": "2bcfa89a",
   "metadata": {},
   "outputs": [
    {
     "data": {
      "text/html": [
       "<div>\n",
       "<style scoped>\n",
       "    .dataframe tbody tr th:only-of-type {\n",
       "        vertical-align: middle;\n",
       "    }\n",
       "\n",
       "    .dataframe tbody tr th {\n",
       "        vertical-align: top;\n",
       "    }\n",
       "\n",
       "    .dataframe thead th {\n",
       "        text-align: right;\n",
       "    }\n",
       "</style>\n",
       "<table border=\"1\" class=\"dataframe\">\n",
       "  <thead>\n",
       "    <tr style=\"text-align: right;\">\n",
       "      <th></th>\n",
       "      <th>Model</th>\n",
       "      <th>MAE</th>\n",
       "      <th>MSE</th>\n",
       "      <th>RMSE</th>\n",
       "      <th>Score</th>\n",
       "    </tr>\n",
       "  </thead>\n",
       "  <tbody>\n",
       "    <tr>\n",
       "      <th>0</th>\n",
       "      <td>Linear Regression</td>\n",
       "      <td>1826.866630</td>\n",
       "      <td>5.955844e+06</td>\n",
       "      <td>2440.459717</td>\n",
       "      <td>0.637207</td>\n",
       "    </tr>\n",
       "    <tr>\n",
       "      <th>1</th>\n",
       "      <td>Decision Tree</td>\n",
       "      <td>1247.673837</td>\n",
       "      <td>3.478665e+06</td>\n",
       "      <td>1865.118082</td>\n",
       "      <td>0.788101</td>\n",
       "    </tr>\n",
       "    <tr>\n",
       "      <th>2</th>\n",
       "      <td>Random Forest</td>\n",
       "      <td>1147.104255</td>\n",
       "      <td>3.208676e+06</td>\n",
       "      <td>1791.277653</td>\n",
       "      <td>0.804547</td>\n",
       "    </tr>\n",
       "    <tr>\n",
       "      <th>3</th>\n",
       "      <td>Random Forest with GridSearchCV</td>\n",
       "      <td>1615.171819</td>\n",
       "      <td>4.522262e+06</td>\n",
       "      <td>2126.561003</td>\n",
       "      <td>0.724532</td>\n",
       "    </tr>\n",
       "    <tr>\n",
       "      <th>4</th>\n",
       "      <td>Bagging meta estimator</td>\n",
       "      <td>1147.233929</td>\n",
       "      <td>3.207571e+06</td>\n",
       "      <td>1790.969386</td>\n",
       "      <td>0.804615</td>\n",
       "    </tr>\n",
       "    <tr>\n",
       "      <th>5</th>\n",
       "      <td>Adaboost</td>\n",
       "      <td>1923.384425</td>\n",
       "      <td>5.676261e+06</td>\n",
       "      <td>2382.490533</td>\n",
       "      <td>0.654237</td>\n",
       "    </tr>\n",
       "  </tbody>\n",
       "</table>\n",
       "</div>"
      ],
      "text/plain": [
       "                             Model          MAE           MSE         RMSE  \\\n",
       "0                Linear Regression  1826.866630  5.955844e+06  2440.459717   \n",
       "1                    Decision Tree  1247.673837  3.478665e+06  1865.118082   \n",
       "2                    Random Forest  1147.104255  3.208676e+06  1791.277653   \n",
       "3  Random Forest with GridSearchCV  1615.171819  4.522262e+06  2126.561003   \n",
       "4           Bagging meta estimator  1147.233929  3.207571e+06  1790.969386   \n",
       "5                         Adaboost  1923.384425  5.676261e+06  2382.490533   \n",
       "\n",
       "      Score  \n",
       "0  0.637207  \n",
       "1  0.788101  \n",
       "2  0.804547  \n",
       "3  0.724532  \n",
       "4  0.804615  \n",
       "5  0.654237  "
      ]
     },
     "execution_count": 76,
     "metadata": {},
     "output_type": "execute_result"
    }
   ],
   "source": [
    "reg_metrics = pd.Series({'Model': \"Adaboost\",\n",
    "                     'MAE': metrics.mean_absolute_error(y_test, adaboost_pred),\n",
    "                     'MSE': metrics.mean_squared_error(y_test, adaboost_pred),\n",
    "                     'RMSE': np.sqrt(metrics.mean_squared_error(y_test, adaboost_pred)),\n",
    "                     'Score': adaboost.score(X_test, y_test)\n",
    "                   })\n",
    "\n",
    "result_tabulation = result_tabulation.append(reg_metrics, ignore_index = True)\n",
    "\n",
    "result_tabulation"
   ]
  },
  {
   "cell_type": "markdown",
   "id": "de4b827c",
   "metadata": {},
   "source": [
    "## 5.7 XGboost"
   ]
  },
  {
   "cell_type": "code",
   "execution_count": 77,
   "id": "03b1dbfd",
   "metadata": {},
   "outputs": [
    {
     "data": {
      "text/plain": [
       "XGBRegressor(base_score=None, booster=None, callbacks=None,\n",
       "             colsample_bylevel=None, colsample_bynode=None,\n",
       "             colsample_bytree=None, early_stopping_rounds=None,\n",
       "             enable_categorical=False, eval_metric=None, feature_types=None,\n",
       "             gamma=None, gpu_id=None, grow_policy=None, importance_type=None,\n",
       "             interaction_constraints=None, learning_rate=0.08, max_bin=None,\n",
       "             max_cat_threshold=None, max_cat_to_onehot=None,\n",
       "             max_delta_step=None, max_depth=None, max_leaves=None,\n",
       "             min_child_weight=None, missing=nan, monotone_constraints=None,\n",
       "             n_estimators=100, n_jobs=None, num_parallel_tree=None,\n",
       "             predictor=None, random_state=55, ...)"
      ]
     },
     "execution_count": 77,
     "metadata": {},
     "output_type": "execute_result"
    }
   ],
   "source": [
    "xgbm = XGBRegressor(learning_rate=0.08, random_state=55)\n",
    "\n",
    "xgbm.fit(X_train, y_train)"
   ]
  },
  {
   "cell_type": "code",
   "execution_count": 78,
   "id": "a9845507",
   "metadata": {},
   "outputs": [],
   "source": [
    "xg_pred = xgbm.predict(X_test)"
   ]
  },
  {
   "cell_type": "code",
   "execution_count": 79,
   "id": "c1e1cc8e",
   "metadata": {},
   "outputs": [
    {
     "data": {
      "text/html": [
       "<div>\n",
       "<style scoped>\n",
       "    .dataframe tbody tr th:only-of-type {\n",
       "        vertical-align: middle;\n",
       "    }\n",
       "\n",
       "    .dataframe tbody tr th {\n",
       "        vertical-align: top;\n",
       "    }\n",
       "\n",
       "    .dataframe thead th {\n",
       "        text-align: right;\n",
       "    }\n",
       "</style>\n",
       "<table border=\"1\" class=\"dataframe\">\n",
       "  <thead>\n",
       "    <tr style=\"text-align: right;\">\n",
       "      <th></th>\n",
       "      <th>Model</th>\n",
       "      <th>MAE</th>\n",
       "      <th>MSE</th>\n",
       "      <th>RMSE</th>\n",
       "      <th>Score</th>\n",
       "    </tr>\n",
       "  </thead>\n",
       "  <tbody>\n",
       "    <tr>\n",
       "      <th>0</th>\n",
       "      <td>Linear Regression</td>\n",
       "      <td>1826.866630</td>\n",
       "      <td>5.955844e+06</td>\n",
       "      <td>2440.459717</td>\n",
       "      <td>0.637207</td>\n",
       "    </tr>\n",
       "    <tr>\n",
       "      <th>1</th>\n",
       "      <td>Decision Tree</td>\n",
       "      <td>1247.673837</td>\n",
       "      <td>3.478665e+06</td>\n",
       "      <td>1865.118082</td>\n",
       "      <td>0.788101</td>\n",
       "    </tr>\n",
       "    <tr>\n",
       "      <th>2</th>\n",
       "      <td>Random Forest</td>\n",
       "      <td>1147.104255</td>\n",
       "      <td>3.208676e+06</td>\n",
       "      <td>1791.277653</td>\n",
       "      <td>0.804547</td>\n",
       "    </tr>\n",
       "    <tr>\n",
       "      <th>3</th>\n",
       "      <td>Random Forest with GridSearchCV</td>\n",
       "      <td>1615.171819</td>\n",
       "      <td>4.522262e+06</td>\n",
       "      <td>2126.561003</td>\n",
       "      <td>0.724532</td>\n",
       "    </tr>\n",
       "    <tr>\n",
       "      <th>4</th>\n",
       "      <td>Bagging meta estimator</td>\n",
       "      <td>1147.233929</td>\n",
       "      <td>3.207571e+06</td>\n",
       "      <td>1790.969386</td>\n",
       "      <td>0.804615</td>\n",
       "    </tr>\n",
       "    <tr>\n",
       "      <th>5</th>\n",
       "      <td>Adaboost</td>\n",
       "      <td>1923.384425</td>\n",
       "      <td>5.676261e+06</td>\n",
       "      <td>2382.490533</td>\n",
       "      <td>0.654237</td>\n",
       "    </tr>\n",
       "    <tr>\n",
       "      <th>6</th>\n",
       "      <td>XG boost</td>\n",
       "      <td>1194.263221</td>\n",
       "      <td>2.680060e+06</td>\n",
       "      <td>1637.088840</td>\n",
       "      <td>0.836747</td>\n",
       "    </tr>\n",
       "  </tbody>\n",
       "</table>\n",
       "</div>"
      ],
      "text/plain": [
       "                             Model          MAE           MSE         RMSE  \\\n",
       "0                Linear Regression  1826.866630  5.955844e+06  2440.459717   \n",
       "1                    Decision Tree  1247.673837  3.478665e+06  1865.118082   \n",
       "2                    Random Forest  1147.104255  3.208676e+06  1791.277653   \n",
       "3  Random Forest with GridSearchCV  1615.171819  4.522262e+06  2126.561003   \n",
       "4           Bagging meta estimator  1147.233929  3.207571e+06  1790.969386   \n",
       "5                         Adaboost  1923.384425  5.676261e+06  2382.490533   \n",
       "6                         XG boost  1194.263221  2.680060e+06  1637.088840   \n",
       "\n",
       "      Score  \n",
       "0  0.637207  \n",
       "1  0.788101  \n",
       "2  0.804547  \n",
       "3  0.724532  \n",
       "4  0.804615  \n",
       "5  0.654237  \n",
       "6  0.836747  "
      ]
     },
     "execution_count": 79,
     "metadata": {},
     "output_type": "execute_result"
    }
   ],
   "source": [
    "reg_metrics = pd.Series({'Model': \"XG boost\",\n",
    "                     'MAE': metrics.mean_absolute_error(y_test, xg_pred),\n",
    "                     'MSE': metrics.mean_squared_error(y_test, xg_pred),\n",
    "                     'RMSE': np.sqrt(metrics.mean_squared_error(y_test, xg_pred)),\n",
    "                     'Score': xgbm.score(X_test, y_test)\n",
    "                   })\n",
    "\n",
    "result_tabulation = result_tabulation.append(reg_metrics, ignore_index = True)\n",
    "\n",
    "result_tabulation"
   ]
  },
  {
   "cell_type": "markdown",
   "id": "ce41cc5b",
   "metadata": {},
   "source": [
    "# 6.Conclusion"
   ]
  },
  {
   "cell_type": "code",
   "execution_count": 80,
   "id": "3cebf153",
   "metadata": {},
   "outputs": [
    {
     "data": {
      "text/html": [
       "<div>\n",
       "<style scoped>\n",
       "    .dataframe tbody tr th:only-of-type {\n",
       "        vertical-align: middle;\n",
       "    }\n",
       "\n",
       "    .dataframe tbody tr th {\n",
       "        vertical-align: top;\n",
       "    }\n",
       "\n",
       "    .dataframe thead th {\n",
       "        text-align: right;\n",
       "    }\n",
       "</style>\n",
       "<table border=\"1\" class=\"dataframe\">\n",
       "  <thead>\n",
       "    <tr style=\"text-align: right;\">\n",
       "      <th></th>\n",
       "      <th>Model</th>\n",
       "      <th>MAE</th>\n",
       "      <th>MSE</th>\n",
       "      <th>RMSE</th>\n",
       "      <th>Score</th>\n",
       "    </tr>\n",
       "  </thead>\n",
       "  <tbody>\n",
       "    <tr>\n",
       "      <th>0</th>\n",
       "      <td>Linear Regression</td>\n",
       "      <td>1826.866630</td>\n",
       "      <td>5.955844e+06</td>\n",
       "      <td>2440.459717</td>\n",
       "      <td>0.637207</td>\n",
       "    </tr>\n",
       "    <tr>\n",
       "      <th>1</th>\n",
       "      <td>Decision Tree</td>\n",
       "      <td>1247.673837</td>\n",
       "      <td>3.478665e+06</td>\n",
       "      <td>1865.118082</td>\n",
       "      <td>0.788101</td>\n",
       "    </tr>\n",
       "    <tr>\n",
       "      <th>2</th>\n",
       "      <td>Random Forest</td>\n",
       "      <td>1147.104255</td>\n",
       "      <td>3.208676e+06</td>\n",
       "      <td>1791.277653</td>\n",
       "      <td>0.804547</td>\n",
       "    </tr>\n",
       "    <tr>\n",
       "      <th>3</th>\n",
       "      <td>Random Forest with GridSearchCV</td>\n",
       "      <td>1615.171819</td>\n",
       "      <td>4.522262e+06</td>\n",
       "      <td>2126.561003</td>\n",
       "      <td>0.724532</td>\n",
       "    </tr>\n",
       "    <tr>\n",
       "      <th>4</th>\n",
       "      <td>Bagging meta estimator</td>\n",
       "      <td>1147.233929</td>\n",
       "      <td>3.207571e+06</td>\n",
       "      <td>1790.969386</td>\n",
       "      <td>0.804615</td>\n",
       "    </tr>\n",
       "    <tr>\n",
       "      <th>5</th>\n",
       "      <td>Adaboost</td>\n",
       "      <td>1923.384425</td>\n",
       "      <td>5.676261e+06</td>\n",
       "      <td>2382.490533</td>\n",
       "      <td>0.654237</td>\n",
       "    </tr>\n",
       "    <tr>\n",
       "      <th>6</th>\n",
       "      <td>XG boost</td>\n",
       "      <td>1194.263221</td>\n",
       "      <td>2.680060e+06</td>\n",
       "      <td>1637.088840</td>\n",
       "      <td>0.836747</td>\n",
       "    </tr>\n",
       "  </tbody>\n",
       "</table>\n",
       "</div>"
      ],
      "text/plain": [
       "                             Model          MAE           MSE         RMSE  \\\n",
       "0                Linear Regression  1826.866630  5.955844e+06  2440.459717   \n",
       "1                    Decision Tree  1247.673837  3.478665e+06  1865.118082   \n",
       "2                    Random Forest  1147.104255  3.208676e+06  1791.277653   \n",
       "3  Random Forest with GridSearchCV  1615.171819  4.522262e+06  2126.561003   \n",
       "4           Bagging meta estimator  1147.233929  3.207571e+06  1790.969386   \n",
       "5                         Adaboost  1923.384425  5.676261e+06  2382.490533   \n",
       "6                         XG boost  1194.263221  2.680060e+06  1637.088840   \n",
       "\n",
       "      Score  \n",
       "0  0.637207  \n",
       "1  0.788101  \n",
       "2  0.804547  \n",
       "3  0.724532  \n",
       "4  0.804615  \n",
       "5  0.654237  \n",
       "6  0.836747  "
      ]
     },
     "execution_count": 80,
     "metadata": {},
     "output_type": "execute_result"
    }
   ],
   "source": [
    "result_tabulation"
   ]
  },
  {
   "cell_type": "markdown",
   "id": "8796c3b8",
   "metadata": {},
   "source": [
    "### From the above table we can conclude that the xgboost model is the best perfoming model with highest accuracy of 83% compare to other models."
   ]
  },
  {
   "cell_type": "code",
   "execution_count": 87,
   "id": "78997b87",
   "metadata": {},
   "outputs": [
    {
     "data": {
      "text/html": [
       "<div>\n",
       "<style scoped>\n",
       "    .dataframe tbody tr th:only-of-type {\n",
       "        vertical-align: middle;\n",
       "    }\n",
       "\n",
       "    .dataframe tbody tr th {\n",
       "        vertical-align: top;\n",
       "    }\n",
       "\n",
       "    .dataframe thead tr th {\n",
       "        text-align: left;\n",
       "    }\n",
       "</style>\n",
       "<table border=\"1\" class=\"dataframe\">\n",
       "  <thead>\n",
       "    <tr>\n",
       "      <th></th>\n",
       "      <th>Actual</th>\n",
       "      <th>Predicted</th>\n",
       "    </tr>\n",
       "    <tr>\n",
       "      <th></th>\n",
       "      <th>0</th>\n",
       "      <th>0</th>\n",
       "    </tr>\n",
       "  </thead>\n",
       "  <tbody>\n",
       "    <tr>\n",
       "      <th>0</th>\n",
       "      <td>13029</td>\n",
       "      <td>13666.430664</td>\n",
       "    </tr>\n",
       "    <tr>\n",
       "      <th>1</th>\n",
       "      <td>14714</td>\n",
       "      <td>12770.626953</td>\n",
       "    </tr>\n",
       "    <tr>\n",
       "      <th>2</th>\n",
       "      <td>7229</td>\n",
       "      <td>5985.812988</td>\n",
       "    </tr>\n",
       "    <tr>\n",
       "      <th>3</th>\n",
       "      <td>14714</td>\n",
       "      <td>12058.878906</td>\n",
       "    </tr>\n",
       "    <tr>\n",
       "      <th>4</th>\n",
       "      <td>4409</td>\n",
       "      <td>4585.870117</td>\n",
       "    </tr>\n",
       "    <tr>\n",
       "      <th>...</th>\n",
       "      <td>...</td>\n",
       "      <td>...</td>\n",
       "    </tr>\n",
       "    <tr>\n",
       "      <th>2113</th>\n",
       "      <td>14714</td>\n",
       "      <td>12456.080078</td>\n",
       "    </tr>\n",
       "    <tr>\n",
       "      <th>2114</th>\n",
       "      <td>10844</td>\n",
       "      <td>11931.814453</td>\n",
       "    </tr>\n",
       "    <tr>\n",
       "      <th>2115</th>\n",
       "      <td>8907</td>\n",
       "      <td>7999.200684</td>\n",
       "    </tr>\n",
       "    <tr>\n",
       "      <th>2116</th>\n",
       "      <td>8586</td>\n",
       "      <td>11753.867188</td>\n",
       "    </tr>\n",
       "    <tr>\n",
       "      <th>2117</th>\n",
       "      <td>16736</td>\n",
       "      <td>16311.752930</td>\n",
       "    </tr>\n",
       "  </tbody>\n",
       "</table>\n",
       "<p>2118 rows × 2 columns</p>\n",
       "</div>"
      ],
      "text/plain": [
       "     Actual     Predicted\n",
       "          0             0\n",
       "0     13029  13666.430664\n",
       "1     14714  12770.626953\n",
       "2      7229   5985.812988\n",
       "3     14714  12058.878906\n",
       "4      4409   4585.870117\n",
       "...     ...           ...\n",
       "2113  14714  12456.080078\n",
       "2114  10844  11931.814453\n",
       "2115   8907   7999.200684\n",
       "2116   8586  11753.867188\n",
       "2117  16736  16311.752930\n",
       "\n",
       "[2118 rows x 2 columns]"
      ]
     },
     "execution_count": 87,
     "metadata": {},
     "output_type": "execute_result"
    }
   ],
   "source": [
    "actual = pd.DataFrame(y_test.values)\n",
    "predicted = pd.DataFrame(xg_pred)\n",
    "diff = pd.concat([actual,predicted], keys=[\"Actual\",\"Predicted\"],axis=1)\n",
    "diff"
   ]
  },
  {
   "cell_type": "code",
   "execution_count": null,
   "id": "eef7de0a",
   "metadata": {},
   "outputs": [],
   "source": []
  }
 ],
 "metadata": {
  "kernelspec": {
   "display_name": "Python 3 (ipykernel)",
   "language": "python",
   "name": "python3"
  },
  "language_info": {
   "codemirror_mode": {
    "name": "ipython",
    "version": 3
   },
   "file_extension": ".py",
   "mimetype": "text/x-python",
   "name": "python",
   "nbconvert_exporter": "python",
   "pygments_lexer": "ipython3",
   "version": "3.9.13"
  }
 },
 "nbformat": 4,
 "nbformat_minor": 5
}
